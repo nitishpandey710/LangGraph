{
 "cells": [
  {
   "cell_type": "code",
   "execution_count": 70,
   "id": "fd5b85fc",
   "metadata": {},
   "outputs": [],
   "source": [
    "#Supervisor\n",
    "#Langchain Supervisor"
   ]
  },
  {
   "cell_type": "code",
   "execution_count": 143,
   "id": "2fda191d",
   "metadata": {},
   "outputs": [],
   "source": [
    "from langchain_openai import ChatOpenAI\n",
    "from langgraph_supervisor import create_supervisor\n",
    "from langgraph.prebuilt import create_react_agent\n",
    "\n",
    "#Initialize Open Ai\n",
    "from dotenv import load_dotenv\n",
    "\n",
    "llm=ChatOpenAI(temperature=0,model=\"gpt-4o-mini\")\n"
   ]
  },
  {
   "cell_type": "code",
   "execution_count": 144,
   "id": "0c5db625",
   "metadata": {},
   "outputs": [
    {
     "data": {
      "text/plain": [
       "ChatOpenAI(client=<openai.resources.chat.completions.completions.Completions object at 0x000001D8E13C05C0>, async_client=<openai.resources.chat.completions.completions.AsyncCompletions object at 0x000001D8E0372AE0>, root_client=<openai.OpenAI object at 0x000001D8E156BB60>, root_async_client=<openai.AsyncOpenAI object at 0x000001D8E13C2D80>, model_name='gpt-4o-mini', temperature=0.0, model_kwargs={}, openai_api_key=SecretStr('**********'))"
      ]
     },
     "execution_count": 144,
     "metadata": {},
     "output_type": "execute_result"
    }
   ],
   "source": [
    "llm"
   ]
  },
  {
   "cell_type": "code",
   "execution_count": 145,
   "id": "ebc94319",
   "metadata": {},
   "outputs": [
    {
     "name": "stdout",
     "output_type": "stream",
     "text": [
      "George Foreman George Foreman (born January 10, 1949, Marshall, Texas, U.S.—died March 21, 2025) was an American boxer who twice was the world heavyweight champion (1973-74, 1994-95). When Foreman regained the heavyweight title at age 45, he was the oldest world heavyweight champion. (Read Gene Tunney's 1929 Britannica essay on boxing.) Foreman grew up in Houston, Texas, and learned to box in a U.S ... Legendary boxer George Foreman has died at 76, according to a statement released by his family Friday night on his official Instagram account. The cause of death was not initially revealed by the ... In 1994, George Foreman launched the George Foreman Grill, and over 100 million grills have been sold. At the time of his death, Foreman was said to have been worth $300 million, according to ... George Edward Foreman was born on Jan. 10, 1949, in Marshall, Texas. His father, J.D. Foreman, was a railroad construction worker. His mother was Nancy Ree (Nelson) Foreman.\n"
     ]
    }
   ],
   "source": [
    "#Tool-1\n",
    "from langchain_community.tools import DuckDuckGoSearchRun\n",
    "\n",
    "def search_duckduckgo(query: str):\n",
    "    \"\"\"Searches DuckDuckGo using LangChain's DuckDuckGoSearchRun tool.\"\"\"\n",
    "    search = DuckDuckGoSearchRun()\n",
    "    return search.invoke(query)\n",
    "\n",
    "\n",
    "results=search_duckduckgo(\"who is George Foreman\")\n",
    "\n",
    "print(results)\n",
    "\n",
    "\n",
    "#Tool2\n",
    "def add(a:float,b:float) -> float:\n",
    "    \"\"\"Add two numbers\"\"\"\n",
    "    return a +b \n",
    "\n",
    "#Tool3\n",
    "def multiply(a:float,b:float)->float:\n",
    "    \"\"\"Multiply two numbers\"\"\"\n",
    "    return a*b\n",
    "\n"
   ]
  },
  {
   "cell_type": "code",
   "execution_count": 146,
   "id": "fea5965e",
   "metadata": {},
   "outputs": [],
   "source": [
    "#Making Agent \n",
    "\n",
    "math_agent=create_react_agent(\n",
    "    model=llm,\n",
    "    tools=[add,multiply],\n",
    "    name=\"Math Expert\",\n",
    "    prompt=\"You are a Math Expert, always use one tool ata a time.\"\n",
    "\n",
    ")"
   ]
  },
  {
   "cell_type": "code",
   "execution_count": 147,
   "id": "58d0f3d1",
   "metadata": {},
   "outputs": [],
   "source": [
    "research_agent = create_react_agent(\n",
    "    model=llm,\n",
    "    tools=[search_duckduckgo],\n",
    "    name=\"research_expert\",\n",
    "    prompt=\"You are a world class researcher with access to web search. Do not do any math.\"\n",
    ")"
   ]
  },
  {
   "cell_type": "code",
   "execution_count": 148,
   "id": "2c4e117c",
   "metadata": {},
   "outputs": [],
   "source": [
    "#Since Supervisor way of method for Agents\n",
    "\n",
    "from langgraph_supervisor import create_supervisor\n",
    "# Create supervisor workflow\n",
    "workflow = create_supervisor(\n",
    "    [research_agent, math_agent],\n",
    "    model=llm,\n",
    "    prompt=(\n",
    "        \"You are a team supervisor managing a research expert and a math expert. \"\n",
    "        \"For current events, use research_agent. \"\n",
    "        \"For math problems , calculations, use math_agent.\"\n",
    "    )\n",
    ")\n"
   ]
  },
  {
   "cell_type": "code",
   "execution_count": 149,
   "id": "803e672e",
   "metadata": {},
   "outputs": [],
   "source": [
    "#Compile and Run\n",
    "apps=workflow.compile()\n",
    "\n",
    "result=apps.invoke({\n",
    "    \"messages\":[\n",
    "        {\n",
    "            \"role\":\"user\",\n",
    "            \"content\":\"what is Generative AI?\"\n",
    "        }\n",
    "    ]\n",
    "})"
   ]
  },
  {
   "cell_type": "code",
   "execution_count": 150,
   "id": "d3a3b0e9",
   "metadata": {},
   "outputs": [
    {
     "name": "stdout",
     "output_type": "stream",
     "text": [
      "{'messages': [HumanMessage(content='what is Generative AI?', additional_kwargs={}, response_metadata={}, id='a6a0b03b-59b3-4657-8f3d-f8e79a619d62'), AIMessage(content='', additional_kwargs={'tool_calls': [{'id': 'call_BP13Twq0ltV6fTg1gkfAixWz', 'function': {'arguments': '{}', 'name': 'transfer_to_research_expert'}, 'type': 'function'}], 'refusal': None}, response_metadata={'token_usage': {'completion_tokens': 14, 'prompt_tokens': 103, 'total_tokens': 117, 'completion_tokens_details': {'accepted_prediction_tokens': 0, 'audio_tokens': 0, 'reasoning_tokens': 0, 'rejected_prediction_tokens': 0}, 'prompt_tokens_details': {'audio_tokens': 0, 'cached_tokens': 0}}, 'model_name': 'gpt-4o-mini-2024-07-18', 'system_fingerprint': 'fp_54eb4bd693', 'id': 'chatcmpl-BZYG4dqVw2n7gpcs7tNt3wr1FQ8SJ', 'service_tier': 'default', 'finish_reason': 'tool_calls', 'logprobs': None}, name='supervisor', id='run--696cd365-f315-4608-ac55-b400bfa40bd5-0', tool_calls=[{'name': 'transfer_to_research_expert', 'args': {}, 'id': 'call_BP13Twq0ltV6fTg1gkfAixWz', 'type': 'tool_call'}], usage_metadata={'input_tokens': 103, 'output_tokens': 14, 'total_tokens': 117, 'input_token_details': {'audio': 0, 'cache_read': 0}, 'output_token_details': {'audio': 0, 'reasoning': 0}}), ToolMessage(content='Successfully transferred to research_expert', name='transfer_to_research_expert', id='a3bda234-841d-4d25-9667-d5476f07ab41', tool_call_id='call_BP13Twq0ltV6fTg1gkfAixWz'), AIMessage(content='Generative AI, or generative artificial intelligence, is a subset of AI that focuses on creating new content, such as text, images, music, and videos. It works by learning patterns from existing data and can generate responses based on text prompts. This technology has various applications and can produce creative outputs, but it also comes with challenges and limitations.', additional_kwargs={'refusal': None}, response_metadata={'token_usage': {'completion_tokens': 71, 'prompt_tokens': 353, 'total_tokens': 424, 'completion_tokens_details': {'accepted_prediction_tokens': 0, 'audio_tokens': 0, 'reasoning_tokens': 0, 'rejected_prediction_tokens': 0}, 'prompt_tokens_details': {'audio_tokens': 0, 'cached_tokens': 0}}, 'model_name': 'gpt-4o-mini-2024-07-18', 'system_fingerprint': 'fp_54eb4bd693', 'id': 'chatcmpl-BZYG7t7amoXmUNiomlSV7FnzK6NSq', 'service_tier': 'default', 'finish_reason': 'stop', 'logprobs': None}, name='research_expert', id='run--23f698db-29c2-4477-8339-86faae363721-0', usage_metadata={'input_tokens': 353, 'output_tokens': 71, 'total_tokens': 424, 'input_token_details': {'audio': 0, 'cache_read': 0}, 'output_token_details': {'audio': 0, 'reasoning': 0}}), AIMessage(content='Transferring back to supervisor', additional_kwargs={}, response_metadata={'__is_handoff_back': True}, name='research_expert', id='6da400bd-4021-46e2-8122-450997a53900', tool_calls=[{'name': 'transfer_back_to_supervisor', 'args': {}, 'id': 'd347650f-bbc6-4320-975a-178400367d79', 'type': 'tool_call'}]), ToolMessage(content='Successfully transferred back to supervisor', name='transfer_back_to_supervisor', id='5841f563-4164-4e8d-aa8d-c1cad0e14611', tool_call_id='d347650f-bbc6-4320-975a-178400367d79'), AIMessage(content='Generative AI is a subset of artificial intelligence that focuses on creating new content, such as text, images, music, and videos. It learns patterns from existing data and generates responses based on prompts. This technology has various applications and can produce creative outputs, but it also comes with challenges and limitations.', additional_kwargs={'refusal': None}, response_metadata={'token_usage': {'completion_tokens': 61, 'prompt_tokens': 263, 'total_tokens': 324, 'completion_tokens_details': {'accepted_prediction_tokens': 0, 'audio_tokens': 0, 'reasoning_tokens': 0, 'rejected_prediction_tokens': 0}, 'prompt_tokens_details': {'audio_tokens': 0, 'cached_tokens': 0}}, 'model_name': 'gpt-4o-mini-2024-07-18', 'system_fingerprint': 'fp_54eb4bd693', 'id': 'chatcmpl-BZYG9ePG6UkpyVuxmW4St3NBI25Rg', 'service_tier': 'default', 'finish_reason': 'stop', 'logprobs': None}, name='supervisor', id='run--358b6126-b79b-446b-b758-0580c7722f6b-0', usage_metadata={'input_tokens': 263, 'output_tokens': 61, 'total_tokens': 324, 'input_token_details': {'audio': 0, 'cache_read': 0}, 'output_token_details': {'audio': 0, 'reasoning': 0}})]}\n"
     ]
    }
   ],
   "source": [
    "print(result)"
   ]
  },
  {
   "cell_type": "code",
   "execution_count": 151,
   "id": "ebd64ea8",
   "metadata": {},
   "outputs": [
    {
     "name": "stdout",
     "output_type": "stream",
     "text": [
      "================================\u001b[1m Human Message \u001b[0m=================================\n",
      "\n",
      "what is Generative AI?\n",
      "==================================\u001b[1m Ai Message \u001b[0m==================================\n",
      "Name: supervisor\n",
      "Tool Calls:\n",
      "  transfer_to_research_expert (call_BP13Twq0ltV6fTg1gkfAixWz)\n",
      " Call ID: call_BP13Twq0ltV6fTg1gkfAixWz\n",
      "  Args:\n",
      "=================================\u001b[1m Tool Message \u001b[0m=================================\n",
      "Name: transfer_to_research_expert\n",
      "\n",
      "Successfully transferred to research_expert\n",
      "==================================\u001b[1m Ai Message \u001b[0m==================================\n",
      "Name: research_expert\n",
      "\n",
      "Generative AI, or generative artificial intelligence, is a subset of AI that focuses on creating new content, such as text, images, music, and videos. It works by learning patterns from existing data and can generate responses based on text prompts. This technology has various applications and can produce creative outputs, but it also comes with challenges and limitations.\n",
      "==================================\u001b[1m Ai Message \u001b[0m==================================\n",
      "Name: research_expert\n",
      "\n",
      "Transferring back to supervisor\n",
      "Tool Calls:\n",
      "  transfer_back_to_supervisor (d347650f-bbc6-4320-975a-178400367d79)\n",
      " Call ID: d347650f-bbc6-4320-975a-178400367d79\n",
      "  Args:\n",
      "=================================\u001b[1m Tool Message \u001b[0m=================================\n",
      "Name: transfer_back_to_supervisor\n",
      "\n",
      "Successfully transferred back to supervisor\n",
      "==================================\u001b[1m Ai Message \u001b[0m==================================\n",
      "Name: supervisor\n",
      "\n",
      "Generative AI is a subset of artificial intelligence that focuses on creating new content, such as text, images, music, and videos. It learns patterns from existing data and generates responses based on prompts. This technology has various applications and can produce creative outputs, but it also comes with challenges and limitations.\n"
     ]
    }
   ],
   "source": [
    "for m in result[\"messages\"]:\n",
    "    m.pretty_print()"
   ]
  },
  {
   "cell_type": "code",
   "execution_count": 155,
   "id": "f612ecd5",
   "metadata": {},
   "outputs": [
    {
     "name": "stdout",
     "output_type": "stream",
     "text": [
      "================================\u001b[1m Human Message \u001b[0m=================================\n",
      "\n",
      "what is the weather in delhi today and add 10 to it\n",
      "==================================\u001b[1m Ai Message \u001b[0m==================================\n",
      "Name: supervisor\n",
      "Tool Calls:\n",
      "  transfer_to_research_expert (call_luKGbCaslarBtpLQylGkv5Vc)\n",
      " Call ID: call_luKGbCaslarBtpLQylGkv5Vc\n",
      "  Args:\n",
      "=================================\u001b[1m Tool Message \u001b[0m=================================\n",
      "Name: transfer_to_research_expert\n",
      "\n",
      "Successfully transferred to research_expert\n",
      "==================================\u001b[1m Ai Message \u001b[0m==================================\n",
      "Name: research_expert\n",
      "\n",
      "Today, Delhi is experiencing extreme heat, with temperatures reaching around 46 degrees Celsius. A red alert has been issued due to the intense heatwave. \n",
      "\n",
      "If you add 10 to that temperature, it would be 56 degrees Celsius.\n",
      "==================================\u001b[1m Ai Message \u001b[0m==================================\n",
      "Name: research_expert\n",
      "\n",
      "Transferring back to supervisor\n",
      "Tool Calls:\n",
      "  transfer_back_to_supervisor (a9a19450-4523-454e-a3c2-d9bdd487715d)\n",
      " Call ID: a9a19450-4523-454e-a3c2-d9bdd487715d\n",
      "  Args:\n",
      "=================================\u001b[1m Tool Message \u001b[0m=================================\n",
      "Name: transfer_back_to_supervisor\n",
      "\n",
      "Successfully transferred back to supervisor\n",
      "==================================\u001b[1m Ai Message \u001b[0m==================================\n",
      "Name: supervisor\n",
      "\n",
      "Today, Delhi is experiencing extreme heat, with temperatures reaching around 46 degrees Celsius. If you add 10 to that, it would be 56 degrees Celsius.\n"
     ]
    }
   ],
   "source": [
    "# Compile and run\n",
    "app = workflow.compile()\n",
    "result = app.invoke({\n",
    "    \"messages\": [\n",
    "        {\n",
    "            \"role\": \"user\",\n",
    "            \"content\": \"what is the weather in delhi today and add 10 to it\"\n",
    "        }\n",
    "    ]\n",
    "})\n",
    "\n",
    "for m in result[\"messages\"]:\n",
    "    m.pretty_print()"
   ]
  },
  {
   "cell_type": "code",
   "execution_count": null,
   "id": "ec991ce2",
   "metadata": {},
   "outputs": [],
   "source": [
    "#The Expectation is the calculations should be handled by Math Agent and Search by Research Agent."
   ]
  }
 ],
 "metadata": {
  "kernelspec": {
   "display_name": "Python 3",
   "language": "python",
   "name": "python3"
  },
  "language_info": {
   "codemirror_mode": {
    "name": "ipython",
    "version": 3
   },
   "file_extension": ".py",
   "mimetype": "text/x-python",
   "name": "python",
   "nbconvert_exporter": "python",
   "pygments_lexer": "ipython3",
   "version": "3.12.0"
  }
 },
 "nbformat": 4,
 "nbformat_minor": 5
}
