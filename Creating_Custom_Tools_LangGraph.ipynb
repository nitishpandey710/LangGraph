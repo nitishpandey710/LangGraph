{
 "cells": [
  {
   "cell_type": "markdown",
   "id": "d18f3ad6",
   "metadata": {},
   "source": [
    "Single Agent --->Provided Multiple Tools(Custom tools + Inbuilt tools)"
   ]
  },
  {
   "cell_type": "code",
   "execution_count": null,
   "id": "2ec33055",
   "metadata": {},
   "outputs": [],
   "source": [
    "#A popular Python HTTP library for sending HTTP/1.1 requests (GET, POST, etc.) to interact with web APIs and fetch remote resources.\n",
    "import requests\n",
    "#Utilities to embed and render images directly within Jupyter/IPython notebooks for interactive visual output.\n",
    "from IPython.display import Image,display\n",
    "#Core classes from LangGraph defining a state-machine graph (StateGraph) and its entry point constant (START) to orchestrate conversational or workflow states.\n",
    "from langgraph.graph import StateGraph,START\n",
    "#LangChain integration that wraps OpenAI’s LLM API, enabling prompt submission and response handling within a LangChain pipeline.\n",
    "from langchain_openai import OpenAI\n",
    "#Typed message objects representing user (“Human”) and system instructions in LangChain’s chat message schema to structure prompts.\n",
    "from langchain_core.messages import HumanMessage,SystemMessage\n",
    "#A LangGraph state node for storing and managing a sequence of chat messages as part of the graph’s execution context.\n",
    "from langgraph.graph import MessagesState\n",
    "#Prebuilt LangGraph nodes—ToolNode to invoke external tools and tools_condition to branch logic based on tool outputs.\n",
    "from langgraph.prebuilt import ToolNode,tools_condition\n",
    "#standard typing helper that attaches metadata (ex:validation rules) to existing types for tooling and runtime introspection.\n",
    "from typing import Annotated\n",
    "#Enables the definition of dictionary types with fixed keys and value type useful for more precise type checking in Python versions before 3.9.\n",
    "from typing_extensions import TypedDict\n",
    "#helper function to append one or more HumanMessage/SystemMessage objects into a MessagesState, updating the conversation history.\n",
    "\n",
    "from langgraph.graph.message import add_messages \n"
   ]
  },
  {
   "cell_type": "code",
   "execution_count": 2,
   "id": "611fc94a",
   "metadata": {},
   "outputs": [],
   "source": [
    "#State has a messages list, and updates to it go through add_messages so new chat entries get added, not overwritten\n",
    "#telling LangGraph whenever someone puts new chat lines into this box, automatically use the add_messages helper to append them properly instead of just replacing the whole list.\n",
    "class State(TypedDict):\n",
    "    messages:Annotated[list,add_messages]\n"
   ]
  },
  {
   "cell_type": "code",
   "execution_count": 3,
   "id": "2dabae2f",
   "metadata": {},
   "outputs": [
    {
     "name": "stdout",
     "output_type": "stream",
     "text": [
      "Collecting duckduckgo-search\n",
      "  Downloading duckduckgo_search-8.0.2-py3-none-any.whl.metadata (16 kB)\n",
      "Collecting click>=8.1.8 (from duckduckgo-search)\n",
      "  Downloading click-8.2.1-py3-none-any.whl.metadata (2.5 kB)\n",
      "Collecting primp>=0.15.0 (from duckduckgo-search)\n",
      "  Downloading primp-0.15.0-cp38-abi3-win_amd64.whl.metadata (13 kB)\n",
      "Collecting lxml>=5.3.0 (from duckduckgo-search)\n",
      "  Downloading lxml-5.4.0-cp312-cp312-win_amd64.whl.metadata (3.6 kB)\n",
      "Requirement already satisfied: colorama in c:\\users\\nitis\\desktop\\agentic_ai_learning\\venv_agent_learning_world\\lib\\site-packages (from click>=8.1.8->duckduckgo-search) (0.4.6)\n",
      "Downloading duckduckgo_search-8.0.2-py3-none-any.whl (18 kB)\n",
      "Downloading click-8.2.1-py3-none-any.whl (102 kB)\n",
      "Downloading lxml-5.4.0-cp312-cp312-win_amd64.whl (3.8 MB)\n",
      "   ---------------------------------------- 0.0/3.8 MB ? eta -:--:--\n",
      "   --------------------- ------------------ 2.1/3.8 MB 11.8 MB/s eta 0:00:01\n",
      "   ---------------------------------------- 3.8/3.8 MB 11.4 MB/s eta 0:00:00\n",
      "Downloading primp-0.15.0-cp38-abi3-win_amd64.whl (3.1 MB)\n",
      "   ---------------------------------------- 0.0/3.1 MB ? eta -:--:--\n",
      "   ---------------- ----------------------- 1.3/3.1 MB 6.1 MB/s eta 0:00:01\n",
      "   ---------------------------------------- 3.1/3.1 MB 9.3 MB/s eta 0:00:00\n",
      "Installing collected packages: primp, lxml, click, duckduckgo-search\n",
      "\n",
      "   ---------- ----------------------------- 1/4 [lxml]\n",
      "   ---------- ----------------------------- 1/4 [lxml]\n",
      "   ---------- ----------------------------- 1/4 [lxml]\n",
      "   ---------- ----------------------------- 1/4 [lxml]\n",
      "   -------------------- ------------------- 2/4 [click]\n",
      "   -------------------- ------------------- 2/4 [click]\n",
      "   ------------------------------ --------- 3/4 [duckduckgo-search]\n",
      "   ---------------------------------------- 4/4 [duckduckgo-search]\n",
      "\n",
      "Successfully installed click-8.2.1 duckduckgo-search-8.0.2 lxml-5.4.0 primp-0.15.0\n"
     ]
    }
   ],
   "source": [
    "#Tool\n",
    "!pip install -U duckduckgo-search"
   ]
  },
  {
   "cell_type": "code",
   "execution_count": 4,
   "id": "9833eb09",
   "metadata": {},
   "outputs": [
    {
     "data": {
      "text/plain": [
       "'A list of Michael Jackson\\'s greatest hits, from \\'Butterflies\\' to \\'They Don\\'t Care About Us\\', with stories and trivia behind each song. Find out which song is his most famous and how it was inspired by a TV special. From moonwalks to music videos, Michael Jackson\\'s artistry transcended boundaries. Here is a ranking of his greatest tracks. ... Pink Floyd\\'s top 10 most popular songs ranked - No. 2 is an all ... Discover the best songs of the King of Pop, from Billie Jean to Thriller, and how they changed the music industry forever. Learn about the stories, genres, and influences behind his most famous hits and their iconic music videos. Michael Jackson, the King of Pop, left an indelible mark on music, dance, and culture. His songs continue to resonate with fans worldwide, offering timeless melodies, infectious beats, and heartfelt lyrics. Let\\'s dive into the top 30 Michael Jackson songs that made history, inspired generations, and remain as relevant today as ever. Michael Jackson Songs List Famous: Hits That Made History. Michael Jackson\\'s songs are legendary. Here are some of his most famous tracks, loved by fans across generations. 1. \"Billie Jean\" This song is one of the biggest hits of all time. It\\'s from his Thriller album, which is the best-selling album in the world.'"
      ]
     },
     "execution_count": 4,
     "metadata": {},
     "output_type": "execute_result"
    }
   ],
   "source": [
    "\n",
    "from langchain_community.tools import DuckDuckGoSearchRun\n",
    "search=DuckDuckGoSearchRun()\n",
    "search.invoke(\"Michael Jackson most famous song\")"
   ]
  },
  {
   "cell_type": "code",
   "execution_count": 6,
   "id": "fb2df9bc",
   "metadata": {},
   "outputs": [
    {
     "name": "stdout",
     "output_type": "stream",
     "text": [
      "Learn about the life and career of Michael Jackson, an American singer, songwriter, dancer, and philanthropist who is regarded as one of the most culturally significant figures of the 20th century. Explore his achievements, controversies, death, and legacy in this comprehensive article. Learn about Michael Jackson, the American singer, songwriter, and dancer who was the \"King of Pop\" and one of the most influential entertainers in history. Explore his life, career, achievements, controversies, and death in this comprehensive article. Michael Jackson, often hailed as the 'King of Pop,' was more than just an iconic American singer, songwriter, and dancer; he was a global phenomenon who reshaped the landscape of music, dance, and popular culture. His influence extended beyond his Michael Jackson-level dance moves and vocals, touching the hearts and souls of millions worldwide. ... Michael Joseph Jackson was born on August 29, 1958, in Gary, Indiana, the eighth of ten children in the Jackson family. Raised in a modest two-bedroom house, Michael's early life was shaped by the complex dynamics of his family, particularly the influence of his parents, Katherine and Joseph \"Joe\" Jackson. ... Bigi Jackson, 2022. (Photo Credit: Kevin Winter / Getty Images) You definitely know this famous person is related to Michael Jackson, you just might not realize it, as he no longer goes by the name we're all familiar with. Yep, that's right, Bigi is actually \"Blanket,\" or Prince Michael Jackson II. He changed his name in 2015.\n"
     ]
    }
   ],
   "source": [
    "from langchain_community.tools import DuckDuckGoSearchRun\n",
    "\n",
    "def search_duckduckgo(query:str):\n",
    "    \"\"\"Search on DuckDuckGo using langchain DuckDuckGo  Search Run tools\"\"\"\n",
    "    search=DuckDuckGoSearchRun()\n",
    "    return search.invoke(query)\n",
    "\n",
    "result=search_duckduckgo(\"who is Michael Jackson\")\n",
    "print(result)"
   ]
  },
  {
   "cell_type": "code",
   "execution_count": 8,
   "id": "54ec37b1",
   "metadata": {},
   "outputs": [
    {
     "data": {
      "text/plain": [
       "10"
      ]
     },
     "execution_count": 8,
     "metadata": {},
     "output_type": "execute_result"
    }
   ],
   "source": [
    "#Custom tool(Tool meaning Functions)\n",
    "#Add Tool\n",
    "def add(a:int,b:int) ->int:\n",
    "    \"\"\"Add two numbers\"\"\"\n",
    "    return a+b \n",
    "\n",
    "add(4,6)"
   ]
  },
  {
   "cell_type": "code",
   "execution_count": 16,
   "id": "65449c50",
   "metadata": {},
   "outputs": [
    {
     "data": {
      "text/plain": [
       "24"
      ]
     },
     "execution_count": 16,
     "metadata": {},
     "output_type": "execute_result"
    }
   ],
   "source": [
    "#Custom tool(Tool meaning Functions)\n",
    "#Multiply Tool\n",
    "def multiply(a:int,b:int) ->int:\n",
    "    \"\"\"Multiply two numbers\"\"\"\n",
    "    return a*b \n",
    "\n",
    "multiply(4,6)"
   ]
  },
  {
   "cell_type": "code",
   "execution_count": 17,
   "id": "009d479f",
   "metadata": {},
   "outputs": [],
   "source": [
    "from langchain_openai import ChatOpenAI\n",
    "from dotenv import load_dotenv\n",
    "\n",
    "llm=ChatOpenAI(temperature=0,model=\"gpt-4o-mini\")"
   ]
  },
  {
   "cell_type": "code",
   "execution_count": 18,
   "id": "65a9fdb4",
   "metadata": {},
   "outputs": [
    {
     "data": {
      "text/plain": [
       "AIMessage(content='Hello! How can I assist you today?', additional_kwargs={'refusal': None}, response_metadata={'token_usage': {'completion_tokens': 9, 'prompt_tokens': 8, 'total_tokens': 17, 'completion_tokens_details': {'accepted_prediction_tokens': 0, 'audio_tokens': 0, 'reasoning_tokens': 0, 'rejected_prediction_tokens': 0}, 'prompt_tokens_details': {'audio_tokens': 0, 'cached_tokens': 0}}, 'model_name': 'gpt-4o-mini-2024-07-18', 'system_fingerprint': 'fp_54eb4bd693', 'id': 'chatcmpl-BZUBjVKvhX66On9GUh2lhiRCa3fKU', 'service_tier': 'default', 'finish_reason': 'stop', 'logprobs': None}, id='run--80ec66e8-3b91-4f0b-9b5b-8d500976b161-0', usage_metadata={'input_tokens': 8, 'output_tokens': 9, 'total_tokens': 17, 'input_token_details': {'audio': 0, 'cache_read': 0}, 'output_token_details': {'audio': 0, 'reasoning': 0}})"
      ]
     },
     "execution_count": 18,
     "metadata": {},
     "output_type": "execute_result"
    }
   ],
   "source": [
    "llm.invoke(\"hello\")"
   ]
  },
  {
   "cell_type": "code",
   "execution_count": 19,
   "id": "4b4f5e9f",
   "metadata": {},
   "outputs": [],
   "source": [
    "#Binding tools(passing information to llm that if you dont have any answer in this case tools are there to help)\n",
    "tools=[search_duckduckgo,add,multiply]\n",
    "llm_with_tools=llm.bind_tools(tools)"
   ]
  },
  {
   "cell_type": "code",
   "execution_count": 20,
   "id": "d23a7676",
   "metadata": {},
   "outputs": [
    {
     "data": {
      "text/plain": [
       "RunnableBinding(bound=ChatOpenAI(client=<openai.resources.chat.completions.completions.Completions object at 0x0000025F5E27F320>, async_client=<openai.resources.chat.completions.completions.AsyncCompletions object at 0x0000025F5E27F3B0>, root_client=<openai.OpenAI object at 0x0000025F5E27CAA0>, root_async_client=<openai.AsyncOpenAI object at 0x0000025F5E27DEB0>, model_name='gpt-4o-mini', temperature=0.0, model_kwargs={}, openai_api_key=SecretStr('**********')), kwargs={'tools': [{'type': 'function', 'function': {'name': 'search_duckduckgo', 'description': 'Search on DuckDuckGo using langchain DuckDuckGo  Search Run tools', 'parameters': {'properties': {'query': {'type': 'string'}}, 'required': ['query'], 'type': 'object'}}}, {'type': 'function', 'function': {'name': 'add', 'description': 'Add two numbers', 'parameters': {'properties': {'a': {'type': 'integer'}, 'b': {'type': 'integer'}}, 'required': ['a', 'b'], 'type': 'object'}}}, {'type': 'function', 'function': {'name': 'multiply', 'description': 'Multiply two numbers', 'parameters': {'properties': {'a': {'type': 'integer'}, 'b': {'type': 'integer'}}, 'required': ['a', 'b'], 'type': 'object'}}}]}, config={}, config_factories=[])"
      ]
     },
     "execution_count": 20,
     "metadata": {},
     "output_type": "execute_result"
    }
   ],
   "source": [
    "llm_with_tools"
   ]
  },
  {
   "cell_type": "code",
   "execution_count": 22,
   "id": "3f2dbfca",
   "metadata": {},
   "outputs": [],
   "source": [
    "#Now Chatbot\n",
    "#Defines a chatbot function that takes the current state, invokes the LLM (with tools) on its messages, and returns a new state containing the LLM’s response in a messages list.\n",
    "def chatbot(state:State):\n",
    "    return {\"messages\":[llm_with_tools.invoke(state[\"messages\"])]}"
   ]
  },
  {
   "cell_type": "code",
   "execution_count": null,
   "id": "fcb7f9d9",
   "metadata": {},
   "outputs": [],
   "source": [
    "#This sets up and compiles a StateGraph called react_graph by adding an “assistant” node (your chatbot), a tools node for external tool calls, \n",
    "# wiring the start to the assistant, branching into tools when needed, looping back to the assistant, and then compiling it into an executable graph.\n",
    "from langgraph.prebuilt import ToolNode,tools_condition\n",
    "graph_builder=StateGraph(State)\n",
    "\n",
    "#Define Node\n",
    "graph_builder.add_node(\"assistant\",chatbot)\n",
    "graph_builder.add_node(\"tools\",ToolNode(tools))\n",
    "\n",
    "#Define edges\n",
    "graph_builder.add_edge(START,\"assistant\")\n",
    "graph_builder.add_conditional_edges(\"assistant\",tools_condition)\n",
    "graph_builder.add_edge(\"tools\",\"assistant\")\n",
    "react_graph=graph_builder.compile()\n",
    "\n"
   ]
  },
  {
   "cell_type": "code",
   "execution_count": 24,
   "id": "6c5fbd52",
   "metadata": {},
   "outputs": [
    {
     "data": {
      "image/png": "[encoded data removed]",
      "text/plain": [
       "<langgraph.graph.state.CompiledStateGraph object at 0x0000025F5E0CA360>"
      ]
     },
     "execution_count": 24,
     "metadata": {},
     "output_type": "execute_result"
    }
   ],
   "source": [
    "react_graph"
   ]
  },
  {
   "cell_type": "code",
   "execution_count": 26,
   "id": "17eb404d",
   "metadata": {},
   "outputs": [
    {
     "data": {
      "image/png": "[encoded data removed]",
      "text/plain": [
       "<IPython.core.display.Image object>"
      ]
     },
     "metadata": {},
     "output_type": "display_data"
    }
   ],
   "source": [
    "#To see graph connectivity\n",
    "\n",
    "display(Image(react_graph.get_graph().draw_mermaid_png()))"
   ]
  },
  {
   "cell_type": "code",
   "execution_count": 30,
   "id": "bb3a9b26",
   "metadata": {},
   "outputs": [
    {
     "name": "stdout",
     "output_type": "stream",
     "text": [
      "{'messages': [HumanMessage(content='what is the weather in Patna.Multipy it by 4 and add 8', additional_kwargs={}, response_metadata={}, id='1f686fec-d980-43aa-a358-b7837ec72d04'), AIMessage(content='', additional_kwargs={'tool_calls': [{'id': 'call_AbtAJsLYLzRhoVmEmYIoEWi2', 'function': {'arguments': '{\"query\":\"current weather in Patna\"}', 'name': 'search_duckduckgo'}, 'type': 'function'}], 'refusal': None}, response_metadata={'token_usage': {'completion_tokens': 21, 'prompt_tokens': 116, 'total_tokens': 137, 'completion_tokens_details': {'accepted_prediction_tokens': 0, 'audio_tokens': 0, 'reasoning_tokens': 0, 'rejected_prediction_tokens': 0}, 'prompt_tokens_details': {'audio_tokens': 0, 'cached_tokens': 0}}, 'model_name': 'gpt-4o-mini-2024-07-18', 'system_fingerprint': 'fp_54eb4bd693', 'id': 'chatcmpl-BZUbxL1PIEn9RJJf5tA17ji11Mvcs', 'service_tier': 'default', 'finish_reason': 'tool_calls', 'logprobs': None}, id='run--c4308651-fd41-4820-aa54-2e61c1230ea3-0', tool_calls=[{'name': 'search_duckduckgo', 'args': {'query': 'current weather in Patna'}, 'id': 'call_AbtAJsLYLzRhoVmEmYIoEWi2', 'type': 'tool_call'}], usage_metadata={'input_tokens': 116, 'output_tokens': 21, 'total_tokens': 137, 'input_token_details': {'audio': 0, 'cache_read': 0}, 'output_token_details': {'audio': 0, 'reasoning': 0}}), ToolMessage(content=\"Weather in Bihar, Patna: Get the current weather, hourly and weekly weather forecast for Patna, along with current temperature, rainfall, wind speed, humidity, air-quality, 15-days weather forecast and season trend for Patna. At the moment, in Patna, the air is filled with light mist, creating a dreamy scene. The temperature is a temperate 29°C, and the felt air temperature of which represents the influence of relative humidity on air temperature comes in at evaluated at a torrid 36°C.The current temperature is only a few degrees off the maximum of 32°C for today. The temperature in Patna today in the early morning is 32 ° C. If you take into account factors such as wind, humidity and other weather conditions, the temperatures can feel like 32 ° C. The chance of rain in Patna in the morning is 0%, and the wind will blow at 6 km/h. Current weather in Patna is 40°C. Get today's Patna weather report along with accurate forecast including hourly, weekly and monthly reports at Oneindia. Get today's real-time weather updates in Patna with hourly temperatures and a weekly forecast. Find out about Patna's temperature trends, rain chances, air quality (AQI), and humidity, all ...\", name='search_duckduckgo', id='b078bfde-70f0-4c81-ad26-22e8449b87c1', tool_call_id='call_AbtAJsLYLzRhoVmEmYIoEWi2'), AIMessage(content='', additional_kwargs={'tool_calls': [{'id': 'call_6juV36zDlNHUCLbUAm1LNLQd', 'function': {'arguments': '{\"a\": 40, \"b\": 4}', 'name': 'multiply'}, 'type': 'function'}, {'id': 'call_gT9VOzwDmoCZaFD1rPZQ5Wy9', 'function': {'arguments': '{\"a\": 40, \"b\": 8}', 'name': 'add'}, 'type': 'function'}], 'refusal': None}, response_metadata={'token_usage': {'completion_tokens': 50, 'prompt_tokens': 410, 'total_tokens': 460, 'completion_tokens_details': {'accepted_prediction_tokens': 0, 'audio_tokens': 0, 'reasoning_tokens': 0, 'rejected_prediction_tokens': 0}, 'prompt_tokens_details': {'audio_tokens': 0, 'cached_tokens': 0}}, 'model_name': 'gpt-4o-mini-2024-07-18', 'system_fingerprint': 'fp_54eb4bd693', 'id': 'chatcmpl-BZUc0MB2RbSKQYWnINR3517cckyNC', 'service_tier': 'default', 'finish_reason': 'tool_calls', 'logprobs': None}, id='run--ff517f11-fa3c-4e0c-9a33-b3b4265b6bae-0', tool_calls=[{'name': 'multiply', 'args': {'a': 40, 'b': 4}, 'id': 'call_6juV36zDlNHUCLbUAm1LNLQd', 'type': 'tool_call'}, {'name': 'add', 'args': {'a': 40, 'b': 8}, 'id': 'call_gT9VOzwDmoCZaFD1rPZQ5Wy9', 'type': 'tool_call'}], usage_metadata={'input_tokens': 410, 'output_tokens': 50, 'total_tokens': 460, 'input_token_details': {'audio': 0, 'cache_read': 0}, 'output_token_details': {'audio': 0, 'reasoning': 0}}), ToolMessage(content='160', name='multiply', id='60befcb1-934e-4d21-bfb0-7e36dd2f5ef5', tool_call_id='call_6juV36zDlNHUCLbUAm1LNLQd'), ToolMessage(content='48', name='add', id='e393285c-96e6-43ff-8717-0d12ef60e2b4', tool_call_id='call_gT9VOzwDmoCZaFD1rPZQ5Wy9'), AIMessage(content='The current temperature in Patna is 40°C. \\n\\n- When you multiply it by 4, you get **160**.\\n- When you add 8 to the temperature, you get **48**.', additional_kwargs={'refusal': None}, response_metadata={'token_usage': {'completion_tokens': 44, 'prompt_tokens': 476, 'total_tokens': 520, 'completion_tokens_details': {'accepted_prediction_tokens': 0, 'audio_tokens': 0, 'reasoning_tokens': 0, 'rejected_prediction_tokens': 0}, 'prompt_tokens_details': {'audio_tokens': 0, 'cached_tokens': 0}}, 'model_name': 'gpt-4o-mini-2024-07-18', 'system_fingerprint': 'fp_54eb4bd693', 'id': 'chatcmpl-BZUc1MgrM2PldnKwWzUustkE8oGqZ', 'service_tier': 'default', 'finish_reason': 'stop', 'logprobs': None}, id='run--14e63262-325f-44aa-ba7e-3f386d826434-0', usage_metadata={'input_tokens': 476, 'output_tokens': 44, 'total_tokens': 520, 'input_token_details': {'audio': 0, 'cache_read': 0}, 'output_token_details': {'audio': 0, 'reasoning': 0}})]}\n"
     ]
    }
   ],
   "source": [
    "#Making Agent\n",
    "#Runs the react_graph on a user message asking “what is the weather in Patna. Multiply it by 4 and add 8,” then prints out the assistant’s response state.\n",
    "#react_graph is the Agent\n",
    "\n",
    "response=react_graph.invoke({\"messages\":[HumanMessage(content=\"what is the weather in Patna.Multipy it by 4 and add 8\")]})\n",
    "print(response)"
   ]
  },
  {
   "cell_type": "code",
   "execution_count": 31,
   "id": "d946a570",
   "metadata": {},
   "outputs": [
    {
     "name": "stdout",
     "output_type": "stream",
     "text": [
      "================================\u001b[1m Human Message \u001b[0m=================================\n",
      "\n",
      "what is the weather in Patna.Multipy it by 4 and add 8\n",
      "==================================\u001b[1m Ai Message \u001b[0m==================================\n",
      "Tool Calls:\n",
      "  search_duckduckgo (call_AbtAJsLYLzRhoVmEmYIoEWi2)\n",
      " Call ID: call_AbtAJsLYLzRhoVmEmYIoEWi2\n",
      "  Args:\n",
      "    query: current weather in Patna\n",
      "=================================\u001b[1m Tool Message \u001b[0m=================================\n",
      "Name: search_duckduckgo\n",
      "\n",
      "Weather in Bihar, Patna: Get the current weather, hourly and weekly weather forecast for Patna, along with current temperature, rainfall, wind speed, humidity, air-quality, 15-days weather forecast and season trend for Patna. At the moment, in Patna, the air is filled with light mist, creating a dreamy scene. The temperature is a temperate 29°C, and the felt air temperature of which represents the influence of relative humidity on air temperature comes in at evaluated at a torrid 36°C.The current temperature is only a few degrees off the maximum of 32°C for today. The temperature in Patna today in the early morning is 32 ° C. If you take into account factors such as wind, humidity and other weather conditions, the temperatures can feel like 32 ° C. The chance of rain in Patna in the morning is 0%, and the wind will blow at 6 km/h. Current weather in Patna is 40°C. Get today's Patna weather report along with accurate forecast including hourly, weekly and monthly reports at Oneindia. Get today's real-time weather updates in Patna with hourly temperatures and a weekly forecast. Find out about Patna's temperature trends, rain chances, air quality (AQI), and humidity, all ...\n",
      "==================================\u001b[1m Ai Message \u001b[0m==================================\n",
      "Tool Calls:\n",
      "  multiply (call_6juV36zDlNHUCLbUAm1LNLQd)\n",
      " Call ID: call_6juV36zDlNHUCLbUAm1LNLQd\n",
      "  Args:\n",
      "    a: 40\n",
      "    b: 4\n",
      "  add (call_gT9VOzwDmoCZaFD1rPZQ5Wy9)\n",
      " Call ID: call_gT9VOzwDmoCZaFD1rPZQ5Wy9\n",
      "  Args:\n",
      "    a: 40\n",
      "    b: 8\n",
      "=================================\u001b[1m Tool Message \u001b[0m=================================\n",
      "Name: multiply\n",
      "\n",
      "160\n",
      "=================================\u001b[1m Tool Message \u001b[0m=================================\n",
      "Name: add\n",
      "\n",
      "48\n",
      "==================================\u001b[1m Ai Message \u001b[0m==================================\n",
      "\n",
      "The current temperature in Patna is 40°C. \n",
      "\n",
      "- When you multiply it by 4, you get **160**.\n",
      "- When you add 8 to the temperature, you get **48**.\n"
     ]
    }
   ],
   "source": [
    "#For better Readability\n",
    "\n",
    "for m in response['messages']:\n",
    "    m.pretty_print()\n",
    " "
   ]
  },
  {
   "cell_type": "code",
   "execution_count": null,
   "id": "f9582f48",
   "metadata": {},
   "outputs": [],
   "source": []
  }
 ],
 "metadata": {
  "kernelspec": {
   "display_name": "Python 3",
   "language": "python",
   "name": "python3"
  },
  "language_info": {
   "codemirror_mode": {
    "name": "ipython",
    "version": 3
   },
   "file_extension": ".py",
   "mimetype": "text/x-python",
   "name": "python",
   "nbconvert_exporter": "python",
   "pygments_lexer": "ipython3",
   "version": "3.12.0"
  }
 },
 "nbformat": 4,
 "nbformat_minor": 5
}
