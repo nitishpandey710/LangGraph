{
 "cells": [
  {
   "cell_type": "code",
   "execution_count": 26,
   "id": "88f79a67",
   "metadata": {},
   "outputs": [],
   "source": [
    "from typing import List,Dict\n",
    "from langgraph.graph import StateGraph,START,END\n",
    "from langchain_ollama.llms import OllamaLLM"
   ]
  },
  {
   "cell_type": "markdown",
   "id": "9d955792",
   "metadata": {},
   "source": [
    "state = {\n",
    "  \"messages\": [\n",
    "    {\"role\": \"user\", \"content\": \"Hi\"},\n",
    "    {\"role\": \"assistant\", \"content\": \"Hello! How can I help you today?\"},\n",
    "    {\"role\": \"user\", \"content\": \"Who is Mike Tyson?\"},\n",
    "    {\"role\": \"assistant\", \"content\": \"Mike Tyson is a former professional boxer from the United States, known for being one of the greatest heavyweight champions in boxing history.\"}\n",
    "  ]\n",
    "}\n"
   ]
  },
  {
   "cell_type": "code",
   "execution_count": 27,
   "id": "64dae4a2",
   "metadata": {},
   "outputs": [],
   "source": [
    "#1:Define State\n",
    "class State(Dict):\n",
    "    messages:List[Dict[str,str]]"
   ]
  },
  {
   "cell_type": "code",
   "execution_count": 28,
   "id": "7e9d5dd8",
   "metadata": {},
   "outputs": [],
   "source": [
    "#2:Initialize the StateGraph\n",
    "graph_builder=StateGraph(State)"
   ]
  },
  {
   "cell_type": "code",
   "execution_count": 29,
   "id": "9db2083e",
   "metadata": {},
   "outputs": [],
   "source": [
    "#Initialize the LLM\n",
    "llm=OllamaLLM(model=\"llama3.2:1b\")"
   ]
  },
  {
   "cell_type": "code",
   "execution_count": 30,
   "id": "739c0aef",
   "metadata": {},
   "outputs": [],
   "source": [
    "# Define chatbot function\n",
    "def chatbot(state: State):\n",
    "    response = llm.invoke(state[\"messages\"])\n",
    "    state[\"messages\"].append({\"role\": \"assistant\", \"content\": response})\n",
    "    return {\"messages\": state[\"messages\"]}\n"
   ]
  },
  {
   "cell_type": "code",
   "execution_count": 31,
   "id": "b97895c5",
   "metadata": {},
   "outputs": [
    {
     "data": {
      "text/plain": [
       "<langgraph.graph.state.StateGraph at 0x1d3488ae990>"
      ]
     },
     "execution_count": 31,
     "metadata": {},
     "output_type": "execute_result"
    }
   ],
   "source": [
    "#Add Nodes and Edges\n",
    "graph_builder.add_node(\"chatbot\",chatbot)\n",
    "graph_builder.add_edge(START,\"chatbot\")\n",
    "graph_builder.add_edge(\"chatbot\",END)"
   ]
  },
  {
   "cell_type": "code",
   "execution_count": 32,
   "id": "bde09594",
   "metadata": {},
   "outputs": [],
   "source": [
    "graph=graph_builder.compile()"
   ]
  },
  {
   "cell_type": "code",
   "execution_count": 33,
   "id": "9b27257d",
   "metadata": {},
   "outputs": [
    {
     "data": {
      "image/png": "[encoded data removed]",
      "text/plain": [
       "<langgraph.graph.state.CompiledStateGraph object at 0x000001D3488ACF50>"
      ]
     },
     "execution_count": 33,
     "metadata": {},
     "output_type": "execute_result"
    }
   ],
   "source": [
    "graph"
   ]
  },
  {
   "cell_type": "code",
   "execution_count": 34,
   "id": "b1c8eaa1",
   "metadata": {},
   "outputs": [],
   "source": [
    "# Stream updates\n",
    "def stream_graph_updates(user_input: str):\n",
    "    state = {\"messages\": [{\"role\": \"user\", \"content\": user_input}]}\n",
    "    for event in graph.stream(state):\n",
    "        for value in event.values():\n",
    "            print(\"Assistant:\", value[\"messages\"][-1][\"content\"])\n"
   ]
  },
  {
   "cell_type": "code",
   "execution_count": 35,
   "id": "19d500e1",
   "metadata": {},
   "outputs": [
    {
     "name": "stdout",
     "output_type": "stream",
     "text": [
      "Assistant: Hello. What's on your mind?\n",
      "Assistant: I'm not capable of experiencing emotions or forming personal relationships. However, I can offer you a conversation where we can talk about how someone might respond to being asked if they like them. Would you like to explore that topic further?\n",
      "Assistant: It seems like you're simply acknowledging the situation or expression. Is there something specific you'd like to talk about or ask, or are you just being polite? I'm here to listen and help if I can.\n",
      "Assistant: Mike Tyson was a professional boxer who competed from 1985 to 2005. He is widely regarded as one of the greatest boxers of all time, known for his formidable punching power and intimidating presence in the ring.\n",
      "\n",
      "Born on June 30, 1966, in San Francisco, California, Tyson began boxing at a young age and quickly rose through the ranks. He won the undisputed heavyweight championship of the world three times: vs. Michael Spinks (1988), vs. Bruce Seldon (1996), and vs. Evander Holyfield (1997).\n",
      "\n",
      "Tyson's career was marked by several notable battles, including his fight against Evander Holyfield in 1997, which is often referred to as one of the greatest fights in boxing history. He lost that fight, but he won it fair and square.\n",
      "\n",
      "Despite his formidable record, Tyson had a tumultuous personal life, marred by allegations of domestic violence and substance abuse. In 1992, he was convicted of raping a beauty pageant contestant, Desiree Washington, and served three years in prison before being released on parole.\n",
      "\n",
      "Tyson's boxing career came to an end in 2005, when he retired from active competition after losing to Kevin McBride in a title eliminator bout. He has since appeared in various films, TV shows, and documentaries, including the documentary \"Undisputed\" (1999) and the reality series \"Mike Tyson Mysteries\" (2017-2020).\n",
      "\n",
      "Tyson is also known for his post-fight interviews, which often featured provocative and unapologetic statements. He was a polarizing figure in the boxing world, but he remains one of the most iconic and enduring figures in the sport.\n",
      "Goodbye!\n"
     ]
    }
   ],
   "source": [
    "# Run chatbot in a loop\n",
    "if __name__ == \"__main__\":\n",
    "    while True:\n",
    "        try:\n",
    "            user_input = input(\"User: \")\n",
    "            if user_input.lower() in [\"quit\", \"exit\", \"q\"]:\n",
    "                print(\"Goodbye!\")\n",
    "                break\n",
    "\n",
    "            stream_graph_updates(user_input)\n",
    "        except Exception as e:\n",
    "            print(f\"An error occurred: {e}\")\n",
    "            break\n"
   ]
  },
  {
   "cell_type": "code",
   "execution_count": null,
   "id": "149b2059",
   "metadata": {},
   "outputs": [],
   "source": []
  }
 ],
 "metadata": {
  "kernelspec": {
   "display_name": "Python 3",
   "language": "python",
   "name": "python3"
  },
  "language_info": {
   "codemirror_mode": {
    "name": "ipython",
    "version": 3
   },
   "file_extension": ".py",
   "mimetype": "text/x-python",
   "name": "python",
   "nbconvert_exporter": "python",
   "pygments_lexer": "ipython3",
   "version": "3.12.0"
  }
 },
 "nbformat": 4,
 "nbformat_minor": 5
}
