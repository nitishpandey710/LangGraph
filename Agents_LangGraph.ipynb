{
 "cells": [
  {
   "cell_type": "markdown",
   "id": "9347c8c7",
   "metadata": {},
   "source": [
    "How to Build Agents with Langraph"
   ]
  },
  {
   "cell_type": "code",
   "execution_count": 5,
   "id": "4e85c50d",
   "metadata": {},
   "outputs": [],
   "source": [
    "from langchain_community.tools import WikipediaQueryRun\n",
    "from langchain_community.utilities import WikipediaAPIWrapper"
   ]
  },
  {
   "cell_type": "code",
   "execution_count": 12,
   "id": "ecf83d6d",
   "metadata": {},
   "outputs": [],
   "source": [
    "api_wrapper=WikipediaAPIWrapper(top_k_results=1,doc_content_chars_max=500)\n",
    "wiki_tools=WikipediaQueryRun(api_wrapper=api_wrapper)"
   ]
  },
  {
   "cell_type": "code",
   "execution_count": 13,
   "id": "2e89e55f",
   "metadata": {},
   "outputs": [
    {
     "data": {
      "text/plain": [
       "WikipediaQueryRun(api_wrapper=WikipediaAPIWrapper(wiki_client=<module 'wikipedia' from 'c:\\\\Users\\\\nitis\\\\Desktop\\\\Agentic_Ai_Learning\\\\venv_agent_learning_world\\\\Lib\\\\site-packages\\\\wikipedia\\\\__init__.py'>, top_k_results=1, lang='en', load_all_available_meta=False, doc_content_chars_max=500))"
      ]
     },
     "execution_count": 13,
     "metadata": {},
     "output_type": "execute_result"
    }
   ],
   "source": [
    "wiki_tools"
   ]
  },
  {
   "cell_type": "code",
   "execution_count": 14,
   "id": "4b09b0e3",
   "metadata": {},
   "outputs": [
    {
     "data": {
      "text/plain": [
       "'Page: Mike Tyson\\nSummary: Michael Gerard Tyson (born June 30, 1966) is an American former professional boxer who competed primarily between 1985 and 2005. Nicknamed \"Iron Mike\" and \"Kid Dynamite\" in his early career, and later known as \"the Baddest Man on the Planet\", Tyson is regarded as one of the greatest heavyweight boxers of all time. He reigned as the undisputed world heavyweight champion from 1987 to 1990.\\nTyson won his first 19 professional fights by knockout, 12 of them in the first rou'"
      ]
     },
     "execution_count": 14,
     "metadata": {},
     "output_type": "execute_result"
    }
   ],
   "source": [
    "wiki_tools.run({\"query\":\"who is Mike Tyson\"})"
   ]
  },
  {
   "cell_type": "code",
   "execution_count": 15,
   "id": "0cfd2c7c",
   "metadata": {},
   "outputs": [],
   "source": [
    "from langchain_openai import ChatOpenAI\n",
    "from dotenv import load_dotenv"
   ]
  },
  {
   "cell_type": "code",
   "execution_count": 16,
   "id": "a6a0ce64",
   "metadata": {},
   "outputs": [
    {
     "data": {
      "text/plain": [
       "True"
      ]
     },
     "execution_count": 16,
     "metadata": {},
     "output_type": "execute_result"
    }
   ],
   "source": [
    "load_dotenv()"
   ]
  },
  {
   "cell_type": "code",
   "execution_count": 17,
   "id": "2e4db1a8",
   "metadata": {},
   "outputs": [],
   "source": [
    "llm=ChatOpenAI(temperature=0,model=\"gpt-4o-mini\")"
   ]
  },
  {
   "cell_type": "code",
   "execution_count": 22,
   "id": "ea6ad5db",
   "metadata": {},
   "outputs": [
    {
     "data": {
      "text/plain": [
       "'Hello! How can I assist you today?'"
      ]
     },
     "execution_count": 22,
     "metadata": {},
     "output_type": "execute_result"
    }
   ],
   "source": [
    "tools=[wiki_tools]\n",
    "\n",
    "#Tool Binding\n",
    "llm_with_tools=llm.bind_tools(tools)\n",
    "\n",
    "#Tool Calling\n",
    "result=llm_with_tools.invoke(\"Hi Man\")\n",
    "\n",
    "result\n",
    "\n",
    "result.content\n"
   ]
  },
  {
   "cell_type": "code",
   "execution_count": 23,
   "id": "a3b9fb36",
   "metadata": {},
   "outputs": [],
   "source": [
    "#Agent (Langraph)\n",
    "\n",
    "from langgraph.prebuilt import create_react_agent\n",
    "agent_executor=create_react_agent(llm,tools)"
   ]
  },
  {
   "cell_type": "code",
   "execution_count": 24,
   "id": "dc11173c",
   "metadata": {},
   "outputs": [
    {
     "data": {
      "image/png": "[encoded data removed]",
      "text/plain": [
       "<langgraph.graph.state.CompiledStateGraph object at 0x00000229A8BB91C0>"
      ]
     },
     "execution_count": 24,
     "metadata": {},
     "output_type": "execute_result"
    }
   ],
   "source": [
    "agent_executor"
   ]
  },
  {
   "cell_type": "code",
   "execution_count": 28,
   "id": "70a22c80",
   "metadata": {},
   "outputs": [
    {
     "data": {
      "text/plain": [
       "[HumanMessage(content='Hello Dear', additional_kwargs={}, response_metadata={}, id='8fb60bd4-241e-419e-befa-47f4f8069c6d'),\n",
       " AIMessage(content='Hello! How can I assist you today?', additional_kwargs={'refusal': None}, response_metadata={'token_usage': {'completion_tokens': 10, 'prompt_tokens': 83, 'total_tokens': 93, 'completion_tokens_details': {'accepted_prediction_tokens': 0, 'audio_tokens': 0, 'reasoning_tokens': 0, 'rejected_prediction_tokens': 0}, 'prompt_tokens_details': {'audio_tokens': 0, 'cached_tokens': 0}}, 'model_name': 'gpt-4o-mini-2024-07-18', 'system_fingerprint': 'fp_54eb4bd693', 'id': 'chatcmpl-BZIiQctkMGRpWuIfID56509eG02Hp', 'service_tier': 'default', 'finish_reason': 'stop', 'logprobs': None}, id='run--4355d1e3-3d4f-4770-bd0e-3cb3a3c1801e-0', usage_metadata={'input_tokens': 83, 'output_tokens': 10, 'total_tokens': 93, 'input_token_details': {'audio': 0, 'cache_read': 0}, 'output_token_details': {'audio': 0, 'reasoning': 0}})]"
      ]
     },
     "execution_count": 28,
     "metadata": {},
     "output_type": "execute_result"
    }
   ],
   "source": [
    "from langchain_core.messages import HumanMessage\n",
    "\n",
    "#Scenario where there is no need to call the Agent\n",
    "\n",
    "response=agent_executor.invoke({\"messages\":[HumanMessage(content=\"Hello Dear\")]})\n",
    "\n",
    "response[\"messages\"]"
   ]
  },
  {
   "cell_type": "code",
   "execution_count": 34,
   "id": "e973721e",
   "metadata": {},
   "outputs": [
    {
     "name": "stdout",
     "output_type": "stream",
     "text": [
      "Hello! How can I assist you today?\n"
     ]
    }
   ],
   "source": [
    "print(response[\"messages\"][-1].content)"
   ]
  },
  {
   "cell_type": "code",
   "execution_count": 35,
   "id": "15ebd316",
   "metadata": {},
   "outputs": [
    {
     "data": {
      "text/plain": [
       "[HumanMessage(content='who is Michael Jackson', additional_kwargs={}, response_metadata={}, id='619396cd-1cd5-4c51-b466-67442141a1f0'),\n",
       " AIMessage(content='', additional_kwargs={'tool_calls': [{'id': 'call_byLqJage9Nag7bKGLsFZQosI', 'function': {'arguments': '{\"query\":\"Michael Jackson\"}', 'name': 'wikipedia'}, 'type': 'function'}], 'refusal': None}, response_metadata={'token_usage': {'completion_tokens': 14, 'prompt_tokens': 85, 'total_tokens': 99, 'completion_tokens_details': {'accepted_prediction_tokens': 0, 'audio_tokens': 0, 'reasoning_tokens': 0, 'rejected_prediction_tokens': 0}, 'prompt_tokens_details': {'audio_tokens': 0, 'cached_tokens': 0}}, 'model_name': 'gpt-4o-mini-2024-07-18', 'system_fingerprint': 'fp_54eb4bd693', 'id': 'chatcmpl-BZImnBVLl2IHe1ABHs4DIBAoKbUeO', 'service_tier': 'default', 'finish_reason': 'tool_calls', 'logprobs': None}, id='run--12bc8678-b87b-4c57-9f54-559c999a4ba1-0', tool_calls=[{'name': 'wikipedia', 'args': {'query': 'Michael Jackson'}, 'id': 'call_byLqJage9Nag7bKGLsFZQosI', 'type': 'tool_call'}], usage_metadata={'input_tokens': 85, 'output_tokens': 14, 'total_tokens': 99, 'input_token_details': {'audio': 0, 'cache_read': 0}, 'output_token_details': {'audio': 0, 'reasoning': 0}}),\n",
       " ToolMessage(content='Page: Michael Jackson\\nSummary: Michael Joseph Jackson (August 29, 1958 – June 25, 2009) was an American singer, songwriter, dancer, and philanthropist. Dubbed the \"King of Pop\", he is regarded as one of the most culturally significant figures of the 20th century. Over a four-decade career, his music achievements broke racial barriers in America and made him a dominant figure across the world. Through songs, stages, and fashion, he proliferated visual performance for artists in popular music; pop', name='wikipedia', id='c2640a0b-f89a-4969-bc83-b50eac1f4dbe', tool_call_id='call_byLqJage9Nag7bKGLsFZQosI'),\n",
       " AIMessage(content='Michael Joseph Jackson (August 29, 1958 – June 25, 2009) was an American singer, songwriter, dancer, and philanthropist. Known as the \"King of Pop,\" he is considered one of the most culturally significant figures of the 20th century. Over his four-decade career, Jackson broke racial barriers in America and became a dominant figure worldwide. He significantly influenced visual performance in popular music through his songs, stage presence, and fashion.', additional_kwargs={'refusal': None}, response_metadata={'token_usage': {'completion_tokens': 97, 'prompt_tokens': 218, 'total_tokens': 315, 'completion_tokens_details': {'accepted_prediction_tokens': 0, 'audio_tokens': 0, 'reasoning_tokens': 0, 'rejected_prediction_tokens': 0}, 'prompt_tokens_details': {'audio_tokens': 0, 'cached_tokens': 0}}, 'model_name': 'gpt-4o-mini-2024-07-18', 'system_fingerprint': 'fp_54eb4bd693', 'id': 'chatcmpl-BZImqGVJKX736XaSnGRaZLkLZlz8M', 'service_tier': 'default', 'finish_reason': 'stop', 'logprobs': None}, id='run--fbae546c-e4c5-481a-9b6b-f47036dbb141-0', usage_metadata={'input_tokens': 218, 'output_tokens': 97, 'total_tokens': 315, 'input_token_details': {'audio': 0, 'cache_read': 0}, 'output_token_details': {'audio': 0, 'reasoning': 0}})]"
      ]
     },
     "execution_count": 35,
     "metadata": {},
     "output_type": "execute_result"
    }
   ],
   "source": [
    "#Scenario where there there is tool is called\n",
    "\n",
    "response=agent_executor.invoke({\"messages\":[HumanMessage(content=\"who is Michael Jackson\")]})\n",
    "\n",
    "response[\"messages\"]\n"
   ]
  },
  {
   "cell_type": "code",
   "execution_count": 36,
   "id": "29eec026",
   "metadata": {},
   "outputs": [
    {
     "name": "stdout",
     "output_type": "stream",
     "text": [
      "Michael Joseph Jackson (August 29, 1958 – June 25, 2009) was an American singer, songwriter, dancer, and philanthropist. Known as the \"King of Pop,\" he is considered one of the most culturally significant figures of the 20th century. Over his four-decade career, Jackson broke racial barriers in America and became a dominant figure worldwide. He significantly influenced visual performance in popular music through his songs, stage presence, and fashion.\n"
     ]
    }
   ],
   "source": [
    "print(response[\"messages\"][-1].content)"
   ]
  },
  {
   "cell_type": "code",
   "execution_count": null,
   "id": "03677539",
   "metadata": {},
   "outputs": [],
   "source": []
  }
 ],
 "metadata": {
  "kernelspec": {
   "display_name": "Python 3",
   "language": "python",
   "name": "python3"
  },
  "language_info": {
   "codemirror_mode": {
    "name": "ipython",
    "version": 3
   },
   "file_extension": ".py",
   "mimetype": "text/x-python",
   "name": "python",
   "nbconvert_exporter": "python",
   "pygments_lexer": "ipython3",
   "version": "3.12.0"
  }
 },
 "nbformat": 4,
 "nbformat_minor": 5
}
