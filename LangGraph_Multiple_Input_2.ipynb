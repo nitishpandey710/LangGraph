{
 "cells": [
  {
   "cell_type": "code",
   "execution_count": 58,
   "id": "e4081b77",
   "metadata": {},
   "outputs": [],
   "source": [
    "from typing import TypedDict,List  #Annotations\n",
    "from langgraph.graph import StateGraph #Frameowrk that assist in designing thye flow of the tasks in the application using graph."
   ]
  },
  {
   "cell_type": "code",
   "execution_count": null,
   "id": "3ee59764",
   "metadata": {},
   "outputs": [],
   "source": [
    "#we have to crate an AgentState -shared Data Structure that keeps track of information as your application runs.\n",
    "#Multiple different input\n",
    "#This defines the structure that holds your data (inputs + outputs)\n",
    "\n",
    "class AgentState(TypedDict):\n",
    "    values:List[int]\n",
    "    name:str\n",
    "    result:str\n",
    "\n"
   ]
  },
  {
   "cell_type": "code",
   "execution_count": null,
   "id": "0da7553f",
   "metadata": {},
   "outputs": [],
   "source": [
    "#This function takes the state as input, processes it, and returns the updated state.\n",
    "\n",
    "def processing_values(state: AgentState) -> AgentState:    # Input state output will be state \n",
    "    \"\"\"This function handles multiple different inputs\"\"\" #Healthy Habbit \n",
    "    \n",
    "\n",
    "    state[\"result\"] = f\"Hi there {state[\"name\"]}! Your sum = {sum(state[\"values\"])}\"  #this will help to update result part of the state (It then stores that message in state[\"result\"])\n",
    "\n",
    "    print(state)\n",
    "    return state"
   ]
  },
  {
   "cell_type": "code",
   "execution_count": 61,
   "id": "c123dbce",
   "metadata": {},
   "outputs": [
    {
     "data": {
      "text/plain": [
       "<langgraph.graph.state.StateGraph at 0x29eddb8f500>"
      ]
     },
     "execution_count": 61,
     "metadata": {},
     "output_type": "execute_result"
    }
   ],
   "source": [
    "graph=StateGraph(AgentState)\n",
    "\n",
    "graph.add_node(\"Processing\",processing_values) #--> To add Node(add_node(requires two parameter 1:Name of the Node 2:What Action it performs)\n",
    "graph.set_entry_point(\"Processing\")#  Requires 1 Paremter the name of the node you want to connect it.\n",
    "graph.set_finish_point(\"Processing\")#  Requires 1 Paremter the name of the node you want to connect it."
   ]
  },
  {
   "cell_type": "code",
   "execution_count": 62,
   "id": "896f1bc0",
   "metadata": {},
   "outputs": [],
   "source": [
    "app = graph.compile() # Compiling the graph"
   ]
  },
  {
   "cell_type": "code",
   "execution_count": 63,
   "id": "78c2fb45",
   "metadata": {},
   "outputs": [
    {
     "data": {
      "image/png": "[encoded data removed]",
      "text/plain": [
       "<langgraph.graph.state.CompiledStateGraph object at 0x0000029EDDB8C3B0>"
      ]
     },
     "execution_count": 63,
     "metadata": {},
     "output_type": "execute_result"
    }
   ],
   "source": [
    "app"
   ]
  },
  {
   "cell_type": "code",
   "execution_count": 66,
   "id": "f4362b2d",
   "metadata": {},
   "outputs": [
    {
     "name": "stdout",
     "output_type": "stream",
     "text": [
      "{'values': [0, 10, 10], 'name': 'Nitish'}\n",
      "{'values': [0, 10, 10], 'name': 'Nitish', 'result': 'Hi there Nitish! Your sum = 20'}\n"
     ]
    }
   ],
   "source": [
    "answers = app.invoke({\"values\": [0,10,10], \"name\": \"Nitish\"})"
   ]
  },
  {
   "cell_type": "code",
   "execution_count": 67,
   "id": "46a4e884",
   "metadata": {},
   "outputs": [
    {
     "name": "stdout",
     "output_type": "stream",
     "text": [
      "Hi there Nitish! Your sum = 20\n"
     ]
    }
   ],
   "source": [
    "print(answers['result'])"
   ]
  },
  {
   "cell_type": "markdown",
   "id": "4739c088",
   "metadata": {},
   "source": [
    "Excercise\n",
    "\n",
    "Create a Graph where you pass in:\n",
    "\n",
    "a list of integers,\n",
    "\n",
    "a name,\n",
    "\n",
    "and an operation.\n",
    "\n",
    "If the operation is \"+\", you add the elements.\n",
    "If the operation is \"*\", you multiply the elements.\n",
    "\n",
    "All logic must be handled in a single node."
   ]
  },
  {
   "cell_type": "code",
   "execution_count": 106,
   "id": "e05b40cb",
   "metadata": {},
   "outputs": [],
   "source": [
    "from typing import TypedDict,List  #Annotations\n",
    "from langgraph.graph import StateGraph #Frameowrk that assist in designing thye flow of the tasks in the application using graph.\n",
    "import math"
   ]
  },
  {
   "cell_type": "code",
   "execution_count": 107,
   "id": "4f398f08",
   "metadata": {},
   "outputs": [],
   "source": [
    "class AgentState(TypedDict):\n",
    "    values:list[int]\n",
    "    name:str\n",
    "    operation:str\n",
    "    result:str"
   ]
  },
  {
   "cell_type": "code",
   "execution_count": 108,
   "id": "995883d8",
   "metadata": {},
   "outputs": [
    {
     "data": {
      "text/plain": [
       "2"
      ]
     },
     "execution_count": 108,
     "metadata": {},
     "output_type": "execute_result"
    }
   ],
   "source": [
    "math.prod([1,2])"
   ]
  },
  {
   "cell_type": "code",
   "execution_count": 126,
   "id": "14c67823",
   "metadata": {},
   "outputs": [],
   "source": [
    "import math\n",
    "\n",
    "def process_values(state: AgentState) -> AgentState:\n",
    "    \"\"\"This function handles multiple different inputs\"\"\"\n",
    "    if state[\"operation\"] == \"+\":\n",
    "        state[\"result\"] = f\"Hi {state['name']}, your answer is: {sum(state['values'])}\"\n",
    "    elif state[\"operation\"] == \"*\":\n",
    "        state[\"result\"] = f\"Hi {state['name']}, your answer is: {math.prod(state['values'])}\"\n",
    "    else:\n",
    "        state[\"result\"] = \"Invalid!\"\n",
    "\n",
    "    return state"
   ]
  },
  {
   "cell_type": "code",
   "execution_count": 127,
   "id": "5d2e8c75",
   "metadata": {},
   "outputs": [
    {
     "data": {
      "text/plain": [
       "<langgraph.graph.state.StateGraph at 0x29eddb6a540>"
      ]
     },
     "execution_count": 127,
     "metadata": {},
     "output_type": "execute_result"
    }
   ],
   "source": [
    "graph=StateGraph(AgentState)\n",
    "\n",
    "graph.add_node(\"Operation_Calc\",operation) #--> To add Node(add_node(requires two parameter 1:Name of the Node 2:What Action it performs)\n",
    "graph.set_entry_point(\"Operation_Calc\")#  Requires 1 Paremter the name of the node you want to connect it.\n",
    "graph.set_finish_point(\"Operation_Calc\")#  Requires 1 Paremter the name of the node you want to connect it."
   ]
  },
  {
   "cell_type": "code",
   "execution_count": 128,
   "id": "28999091",
   "metadata": {},
   "outputs": [],
   "source": [
    "apps=graph.compile()"
   ]
  },
  {
   "cell_type": "code",
   "execution_count": 129,
   "id": "1dce0f0e",
   "metadata": {},
   "outputs": [
    {
     "data": {
      "image/png": "[encoded data removed]",
      "text/plain": [
       "<langgraph.graph.state.CompiledStateGraph object at 0x0000029EDDB9A960>"
      ]
     },
     "execution_count": 129,
     "metadata": {},
     "output_type": "execute_result"
    }
   ],
   "source": [
    "apps"
   ]
  },
  {
   "cell_type": "code",
   "execution_count": 135,
   "id": "d4c7235b",
   "metadata": {},
   "outputs": [],
   "source": [
    "answers = apps.invoke({\"name\": \"Nitish\",\"values\": [1,2,3,4] , \"operation\": \"*\"})"
   ]
  },
  {
   "cell_type": "code",
   "execution_count": 136,
   "id": "d532ccf7",
   "metadata": {},
   "outputs": [
    {
     "data": {
      "text/plain": [
       "{'values': [1, 2, 3, 4],\n",
       " 'name': 'Nitish',\n",
       " 'operation': '*',\n",
       " 'result': 'Hi there Nitish! Your answer is 24'}"
      ]
     },
     "execution_count": 136,
     "metadata": {},
     "output_type": "execute_result"
    }
   ],
   "source": [
    "answers"
   ]
  },
  {
   "cell_type": "code",
   "execution_count": null,
   "id": "d797b38b",
   "metadata": {},
   "outputs": [],
   "source": []
  }
 ],
 "metadata": {
  "kernelspec": {
   "display_name": "Python 3",
   "language": "python",
   "name": "python3"
  },
  "language_info": {
   "codemirror_mode": {
    "name": "ipython",
    "version": 3
   },
   "file_extension": ".py",
   "mimetype": "text/x-python",
   "name": "python",
   "nbconvert_exporter": "python",
   "pygments_lexer": "ipython3",
   "version": "3.12.0"
  }
 },
 "nbformat": 4,
 "nbformat_minor": 5
}
