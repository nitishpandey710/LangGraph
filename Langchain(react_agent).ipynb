{
 "cells": [
  {
   "cell_type": "code",
   "execution_count": 6,
   "id": "bebdc226",
   "metadata": {},
   "outputs": [],
   "source": [
    "from langchain_openai import ChatOpenAI\n",
    "from dotenv import load_dotenv\n",
    "from langchain.agents import initialize_agent, tool\n",
    "from langchain_community.tools import TavilySearchResults\n",
    "import datetime\n"
   ]
  },
  {
   "cell_type": "code",
   "execution_count": 7,
   "id": "7af0f96d",
   "metadata": {},
   "outputs": [
    {
     "data": {
      "text/plain": [
       "True"
      ]
     },
     "execution_count": 7,
     "metadata": {},
     "output_type": "execute_result"
    }
   ],
   "source": [
    "load_dotenv()"
   ]
  },
  {
   "cell_type": "code",
   "execution_count": 8,
   "id": "c56775a4",
   "metadata": {},
   "outputs": [],
   "source": [
    "llm=ChatOpenAI(temperature=0,model=\"gpt-4o-mini\")"
   ]
  },
  {
   "cell_type": "code",
   "execution_count": 9,
   "id": "96a6eb17",
   "metadata": {},
   "outputs": [
    {
     "data": {
      "text/plain": [
       "ChatOpenAI(client=<openai.resources.chat.completions.completions.Completions object at 0x00000219B2179C40>, async_client=<openai.resources.chat.completions.completions.AsyncCompletions object at 0x00000219B20CE840>, root_client=<openai.OpenAI object at 0x00000219B21AA210>, root_async_client=<openai.AsyncOpenAI object at 0x00000219B2179580>, model_name='gpt-4o-mini', temperature=0.0, model_kwargs={}, openai_api_key=SecretStr('**********'))"
      ]
     },
     "execution_count": 9,
     "metadata": {},
     "output_type": "execute_result"
    }
   ],
   "source": [
    "llm"
   ]
  },
  {
   "cell_type": "code",
   "execution_count": 10,
   "id": "d6d1a088",
   "metadata": {},
   "outputs": [],
   "source": [
    "search_tool=TavilySearchResults(search_depth=\"basic\")"
   ]
  },
  {
   "cell_type": "code",
   "execution_count": 11,
   "id": "33dcd3a3",
   "metadata": {},
   "outputs": [
    {
     "data": {
      "text/plain": [
       "TavilySearchResults(search_depth='basic', api_wrapper=TavilySearchAPIWrapper(tavily_api_key=SecretStr('**********')))"
      ]
     },
     "execution_count": 11,
     "metadata": {},
     "output_type": "execute_result"
    }
   ],
   "source": [
    "search_tool"
   ]
  },
  {
   "cell_type": "code",
   "execution_count": 35,
   "id": "bd82ca98",
   "metadata": {},
   "outputs": [],
   "source": [
    "from datetime import datetime"
   ]
  },
  {
   "cell_type": "code",
   "execution_count": 43,
   "id": "98bd226f",
   "metadata": {},
   "outputs": [
    {
     "name": "stdout",
     "output_type": "stream",
     "text": [
      "Current Date and Time: 2025-05-23 07:10:59\n"
     ]
    }
   ],
   "source": [
    "from datetime import datetime\n",
    "from langchain.tools import tool\n",
    "\n",
    "@tool\n",
    "def get_current_datetime(tool_input: str = \"\") -> str:\n",
    "    \"\"\"Returns the current date and time.\"\"\"\n",
    "    now = datetime.now()\n",
    "    return now.strftime(\"%Y-%m-%d %H:%M:%S\")\n",
    "\n",
    "# Correct way to invoke a LangChain tool\n",
    "print(\"Current Date and Time:\", get_current_datetime.invoke(\"\"))"
   ]
  },
  {
   "cell_type": "code",
   "execution_count": 44,
   "id": "5d5409b3",
   "metadata": {},
   "outputs": [
    {
     "data": {
      "text/plain": [
       "StructuredTool(name='get_system_time', description='Returns the current date and time in the specified format', args_schema=<class 'langchain_core.utils.pydantic.get_system_time'>, func=<function get_system_time at 0x00000219B40227A0>)"
      ]
     },
     "execution_count": 44,
     "metadata": {},
     "output_type": "execute_result"
    }
   ],
   "source": [
    "get_system_time"
   ]
  },
  {
   "cell_type": "code",
   "execution_count": 45,
   "id": "72ef23ac",
   "metadata": {},
   "outputs": [],
   "source": [
    "tools=[search_tool,get_current_datetime]"
   ]
  },
  {
   "cell_type": "code",
   "execution_count": 47,
   "id": "7001e33e",
   "metadata": {},
   "outputs": [],
   "source": [
    "agent=initialize_agent(tools=tools,llm=llm,verbose=True)"
   ]
  },
  {
   "cell_type": "code",
   "execution_count": 48,
   "id": "3915ad5e",
   "metadata": {},
   "outputs": [
    {
     "data": {
      "text/plain": [
       "AgentExecutor(verbose=True, tags=['zero-shot-react-description'], agent=ZeroShotAgent(llm_chain=LLMChain(verbose=False, prompt=PromptTemplate(input_variables=['agent_scratchpad', 'input'], input_types={}, partial_variables={}, template=\"Answer the following questions as best you can. You have access to the following tools:\\n\\ntavily_search_results_json - A search engine optimized for comprehensive, accurate, and trusted results. Useful for when you need to answer questions about current events. Input should be a search query.\\nget_current_datetime(tool_input: str = '') -> str - Returns the current date and time.\\n\\nUse the following format:\\n\\nQuestion: the input question you must answer\\nThought: you should always think about what to do\\nAction: the action to take, should be one of [tavily_search_results_json, get_current_datetime]\\nAction Input: the input to the action\\nObservation: the result of the action\\n... (this Thought/Action/Action Input/Observation can repeat N times)\\nThought: I now know the final answer\\nFinal Answer: the final answer to the original input question\\n\\nBegin!\\n\\nQuestion: {input}\\nThought:{agent_scratchpad}\"), llm=ChatOpenAI(client=<openai.resources.chat.completions.completions.Completions object at 0x00000219B2179C40>, async_client=<openai.resources.chat.completions.completions.AsyncCompletions object at 0x00000219B20CE840>, root_client=<openai.OpenAI object at 0x00000219B21AA210>, root_async_client=<openai.AsyncOpenAI object at 0x00000219B2179580>, model_name='gpt-4o-mini', temperature=0.0, model_kwargs={}, openai_api_key=SecretStr('**********')), output_parser=StrOutputParser(), llm_kwargs={}), output_parser=MRKLOutputParser(), allowed_tools=['tavily_search_results_json', 'get_current_datetime']), tools=[TavilySearchResults(search_depth='basic', api_wrapper=TavilySearchAPIWrapper(tavily_api_key=SecretStr('**********'))), StructuredTool(name='get_current_datetime', description='Returns the current date and time.', args_schema=<class 'langchain_core.utils.pydantic.get_current_datetime'>, func=<function get_current_datetime at 0x00000219B3A128E0>)])"
      ]
     },
     "execution_count": 48,
     "metadata": {},
     "output_type": "execute_result"
    }
   ],
   "source": [
    "agent"
   ]
  },
  {
   "cell_type": "code",
   "execution_count": 49,
   "id": "09436807",
   "metadata": {},
   "outputs": [
    {
     "name": "stdout",
     "output_type": "stream",
     "text": [
      "\n",
      "\n",
      "\u001b[1m> Entering new AgentExecutor chain...\u001b[0m\n",
      "\u001b[32;1m\u001b[1;3mI need to find out the date when Virat Kohli retired from international cricket to calculate how many days ago that was. I'll search for the retirement date of Virat Kohli.  \n",
      "Action: tavily_search_results_json  \n",
      "Action Input: \"Virat Kohli retirement date\"  \u001b[0m\n",
      "Observation: \u001b[36;1m\u001b[1;3m[{'title': 'Virat Kohli retirement: India great ends 14-year Test cricket career ...', 'url': 'https://www.bbc.com/sport/cricket/articles/c0mrzlr919xo', 'content': \"Virat Kohli retirement: India great ends 14-year Test cricket career - BBC Sport India great Kohli retires from Test cricket Virat Kohli scored 9,230 runs in 123 Tests for India Legendary India batter Virat Kohli has announced his immediate retirement from Test cricket. Kohli, 36, has played 123 Tests for India and scored 9,230 runs at an average of 46.85. Kohli retired from T20 internationals in 2024, after India's World Cup victory, but is expected to continue playing one-day internationals. Having more Test wins than any other India captain is statistically significant, though that pales when compared to what Kohli did for his team and Test cricket itself. Kohli follows Rohit Sharma into retirement as the regeneration of the India Test team continues.\", 'score': 0.83710164}, {'title': 'Virat Kohli announces retirement from Test cricket after legendary 14 ...', 'url': 'https://www.hindustantimes.com/cricket/virat-kohli-retires-from-test-cricket-with-immediate-effect-bows-out-as-indias-fourth-highest-run-scorer-101746855689461.html', 'content': \"Virat Kohli announces retirement from Test cricket after legendary 14-year career for India: '269 signing off' | Crickit Virat Kohli announces retirement from Test cricket after legendary 14-year career for India: '269 signing off' Get expert analysis, IPL match previews, and in-depth coverage of IPL 2025 and IPL Match Today along with IND W vs SL W Live on HT Crickit, powered by Hindustan Times – your trusted source for cricket news. Get expert analysis, IPL match previews, and in-depth coverage of IPL 2025 and IPL Match Today along with IND W vs SL W Live on HT Crickit, powered by Hindustan Times – your trusted source for cricket news. News / Cricket News / Virat Kohli announces retirement from Test cricket after legendary 14-year career for India: '269 signing off' US News\", 'score': 0.6836946}, {'title': 'Virat Kohli Retires From Test Cricket, Ending 14-Year Career', 'url': 'https://www.forbes.com/sites/manasipathak-1/2025/05/12/virat-kohli-announces-retirement-from-test-cricket/', 'content': \"Virat Kohli, one of India's greatest batters, has announced his retirement from test cricket, ending a glorious 14-year journey.\", 'score': 0.6337056}, {'title': 'Virat Kohli Retirement: Virat Kohli announces Test retirement after 14 ...', 'url': 'https://timesofindia.indiatimes.com/sports/cricket/news/virat-kohli-retires-legendary-india-batter-bows-out-before-england-series/articleshow/121050649.cms', 'content': 'Cricket News: Virat Kohli, a celebrated Indian cricketer, has retired from Test cricket, marking the end of an era. The 36-year-old amassed 9,230 runs in 123 Tests,', 'score': 0.59344494}, {'title': 'Era over as Virat Kohli retires from Test cricket', 'url': 'https://www.icc-cricket.com/news/era-over-as-virat-kohli-retires-from-test-cricket', 'content': 'Era over as Virat Kohli retires from Test cricket India star Virat Kohli praises skipper Rohit Sharma for his job as Test captain While other batters struggled as India failed to pick up the pace, Kohli improved each game and signed off with a brilliant 116, his first-ever Test hundred in Adelaide. Kohli subsequently captained India in the red-ball format, securing 40 wins from his 68 Tests, making him the most successful Indian Men’s captain in Tests, in terms of wins. Star batter Virat Kohli reveals the motivation behind trying to guide India to victory in the ICC World Test Championship Final 2023 against Australia Era over as Virat Kohli retires from Test cricket', 'score': 0.54594}]\u001b[0m\n",
      "Thought:\u001b[32;1m\u001b[1;3mI found multiple sources indicating that Virat Kohli announced his retirement from Test cricket, but the specific date of retirement is not mentioned in the snippets. I will need to check the articles for the exact date. \n",
      "\n",
      "Action: tavily_search_results_json  \n",
      "Action Input: \"Virat Kohli retirement date Test cricket\"  \u001b[0m\n",
      "Observation: \u001b[36;1m\u001b[1;3m[{'title': 'Virat Kohli retirement: India great ends 14-year Test cricket career ...', 'url': 'https://www.bbc.co.uk/sport/cricket/articles/c0mrzlr919xo', 'content': 'India great Kohli retires from Test cricket Virat Kohli scored 9,230 runs in 123 Tests for India Legendary India batter Virat Kohli has announced his immediate retirement from Test cricket. Kohli, 36, has played 123 Tests for India and scored 9,230 runs at an average of 46.85. Virat Kohli Retires from Test Cricket: End of an Era? Having more Test wins than any other India captain is statistically significant, though that pales when compared to what Kohli did for his team and Test cricket itself. \\'Nobody did more for Test cricket\\' - tributes to Kohli \"In my time playing and broadcasting no individual has done as much for Test cricket as Virat Kohli.', 'score': 0.780947}, {'title': 'Virat Kohli retires from Test cricket | Cricbuzz.com', 'url': 'https://www.cricbuzz.com/cricket-news/134336/virat-kohli-retire-test-cricket-legend-india-cricket-cricbuzzcom', 'content': 'Legendary India batter Virat Kohli has announced his retirement from Test cricket with immediate effect. The former India captain finishes with 9230 runs in 123 Tests at an average of 46.85, which', 'score': 0.76385427}, {'title': 'Era over as Virat Kohli retires from Test cricket', 'url': 'https://www.icc-cricket.com/news/era-over-as-virat-kohli-retires-from-test-cricket', 'content': 'Era over as Virat Kohli retires from Test cricket India star Virat Kohli praises skipper Rohit Sharma for his job as Test captain While other batters struggled as India failed to pick up the pace, Kohli improved each game and signed off with a brilliant 116, his first-ever Test hundred in Adelaide. Kohli subsequently captained India in the red-ball format, securing 40 wins from his 68 Tests, making him the most successful Indian Men’s captain in Tests, in terms of wins. Star batter Virat Kohli reveals the motivation behind trying to guide India to victory in the ICC World Test Championship Final 2023 against Australia Era over as Virat Kohli retires from Test cricket', 'score': 0.7515939}, {'title': 'India great Virat Kohli retires from Test cricket - CNN', 'url': 'https://www.cnn.com/2025/05/12/sport/virat-kohli-retire-test-cricket-india-spt-intl', 'content': \"Virat Kohli: India great retires from Test cricket | CNN Football Tennis Golf Motorsport US Sports Olympics Climbing Esports Hockey Follow CNN CNN10 About CNN India great Virat Kohli retires from Test cricket India's Virat Kohli retires from Test cricket as one of the country's greatest ever players. Virat Kohli, one of India’s greatest ever players, announced his retirement from Test cricket on Monday. During his time leading India, he had 40 wins from 68 Tests, making him the winningest Indian men’s captain in the five-day format. Kohli’s decision comes just days after India’s Test captain Rohit Sharma announced his retirement from the format. More from CNN CNN10 About CNN Follow CNN\", 'score': 0.7476348}, {'title': 'Virat Kohli Test retirement: How cricket legends and India teammates ...', 'url': 'https://www.sportingnews.com/us/cricket/news/cricket-legends-india-virat-kohli-retirement-reactions-opinions-tributes/e1af6bb6fa0865f6b5ea7b4f', 'content': 'Virat Kohli Test retirement: How cricket legends and India teammates reacted | Sporting News Virat Kohli Test retirement: How cricket legends and India teammates reacted Here\\'s how legends and India teammates from the cricket world reacted to Kohli\\'s retirement in red-ball cricket. Kohli\\'s idol, Tendulkar, shared his tribute for the cricketer by recalling a gesture from 12 years ago during his farewell Test. Kohli\\'s teammate from the 2011 World Cup winning team, Raina lauded the Indian star\\'s leadership for the last decade, adding that his Test cricket legacy will live on. Former England captain appreciated Kohli\\'s approach to Test cricket, saying \"no individual has done as much\" for the red-ball format as the ex-Indian skipper had done.', 'score': 0.5481178}]\u001b[0m\n",
      "Thought:\u001b[32;1m\u001b[1;3mI still need to find the exact date of Virat Kohli's retirement from Test cricket. The articles mention that he announced his retirement but do not specify the date. I will check one of the articles for the specific date. \n",
      "\n",
      "Action: tavily_search_results_json  \n",
      "Action Input: \"Virat Kohli retirement announcement date\"  \u001b[0m\n",
      "Observation: \u001b[36;1m\u001b[1;3m[{'title': 'Virat Kohli announces retirement from Test Cricket - check stats', 'url': 'https://www.etnownews.com/sports/virat-kohli-announces-retirement-from-test-cricket-check-stats-article-151614876', 'content': 'Virat Kohli Test Retirement: Virat Kohli on Monday (May 12) announced retirement from Test cricket. In his 14 years of Test career, Virat Kohli played 123 Tests, including 68 as captain, and scored 9230 runs. ... Check final match date, full schedule and changed venue. IPL 2025 suspended due to rising India-Pakistan tensions | Operation Sindoor', 'score': 0.8865877}, {'title': 'India great Virat Kohli retires from Test cricket - Sky News', 'url': 'https://news.sky.com/story/india-great-virat-kohli-retires-from-test-cricket-13366444', 'content': 'India great Virat Kohli retires from Test cricket Virat Kohli\\'s decision follows the retirement of Rohit Sharma, who succeeded him as captain, and just over a month before India start a five-match Test series against England. India great Virat Kohli has announced his retirement from Test cricket. His decision comes just days after Rohit Sharma, who succeeded Kohli as skipper, also retired from the game\\'s longest format - and before India start a five-match Test series against England on 20 June. Confirming his retirement, Kohli said: \"It\\'s been 14 years since I first wore the baggy blue in Test cricket. Former India player, Sachin Tendulkar, who is Test cricket\\'s all-time leading run-scorer, said Kohli had inspired future generations with his \"very special\" career.', 'score': 0.8170061}, {'title': 'Virat Kohli Retires From Test Cricket, Ending 14-Year Career - Forbes', 'url': 'https://www.forbes.com/sites/manasipathak-1/2025/05/12/virat-kohli-announces-retirement-from-test-cricket/', 'content': 'Forbes 400 Forbes EQ | Paid Program View All Forbes Vetted Forbes 101 Best Personal Loans Best Car Insurance Best Home Appliance Insurance Best Home Security Companies Forbes Games Forbes Games View All Forbes Games Forbes Insights: Your Guide To Marketing In The Era Of AI | Paid Program Forbes Insights: Your Five-Step Strategy To Unleash AI’s Value In Marketing | Paid Program Careers at Forbes Virat Kohli, one of India’s greatest batters, has announced his retirement from test cricket, ending a glorious 14-year journey. Forbes Daily: Join over 1 million Forbes Daily subscribers and get our best stories, exclusive reporting and essential analysis of the day’s news in your inbox every weekday. Become a Forbes Member. Become a Forbes Member ![Image 7](https://t.co/i/adsct?bci=3&dv=UTC%26en-US%26Google%20Inc.%26Linux%20x86_64%26255%26800%26600%264%2624%26800%26600%260%26na&eci=2&event_id=b9f9ca2b-9f36-45c8-ac56-784915f79407&events=%5B%5B%22pageview%22%2C%7B%7D%5D%5D&integration=advertiser&p_id=Twitter&p_user_id=0&pl_id=124462ce-9f11-4fcb-85b0-1bd8e7b45003&tw_document_href=https%3A%2F%2Fwww.forbes.com%2Fsites%2Fmanasipathak-1%2F2025%2F05%2F12%2Fvirat-kohli-announces-retirement-from-test-cricket%2F&tw_iframe_status=0&tw_order_quantity=0&tw_sale_amount=0&txn_id=nvbvy&type=javascript&version=2.3.33)![Image 8](https://analytics.twitter.com/i/adsct?bci=3&dv=UTC%26en-US%26Google%20Inc.%26Linux%20x86_64%26255%26800%26600%264%2624%26800%26600%260%26na&eci=2&event_id=b9f9ca2b-9f36-45c8-ac56-784915f79407&events=%5B%5B%22pageview%22%2C%7B%7D%5D%5D&integration=advertiser&p_id=Twitter&p_user_id=0&pl_id=124462ce-9f11-4fcb-85b0-1bd8e7b45003&tw_document_href=https%3A%2F%2Fwww.forbes.com%2Fsites%2Fmanasipathak-1%2F2025%2F05%2F12%2Fvirat-kohli-announces-retirement-from-test-cricket%2F&tw_iframe_status=0&tw_order_quantity=0&tw_sale_amount=0&txn_id=nvbvy&type=javascript&version=2.3.33)![Image 9](https://sync.graph.bluecava.com/ds.png?p=4cb3430d-9dfd-11ef-a5fe-4201ac100015&segment=forbeseval&mem=0&sub=0)', 'score': 0.79080546}, {'title': 'Virat Kohli Retirement: Virat Kohli announces Test retirement after 14 ...', 'url': 'https://timesofindia.indiatimes.com/sports/cricket/news/virat-kohli-retires-legendary-india-batter-bows-out-before-england-series/articleshow/121050649.cms', 'content': '\\'Deeply irresponsible\\': NCW condemns online abuse against Vikram Misri and his daughterTeam \\'RRR\\' hosts special screening at London\\'s Royal Albert HallAs oil prices fall can Gulf big spenders keep Trump pledges?A list of Virat Kohli\\'s most controversial moments in Test cricketRohit and Virat gone, who should be India\\'s next Test captain?Embankment on river Yamuna to facilitate mining activity: SC asks CEC to examine issueWhen Virat Kohli opened up about his retirement plans with Anushka Sharma said, ‘a lot of travelling’Kia Carens Clavis launch date confirmed: Key highlights of Maruti Ertiga, Innova Crysta rivalEmpowering Women: Navigating Career Reentry After a BreakStock market today: Nifty50 climbs above 24,800; BSE Sensex rallies over 2,500 points to cross 82,000 - top 5 reasons bulls are partying todayBravo dismisses rumors of New York city Real Housewives cancellation; \"Nothing is official\"Top Cooku Dupe Cooku season 2 gears up for grand comeback; Here’s what we know so farBombay HC orders 2 YouTubers to delete \\'defamatory\\' videos against BJP minister Girish MahajanKareena Kapoor Khan celebrates 9 AM calls and bond with Manager on her birthdayWeekly Horoscope (May 12–18): Predictions for Pig Chinese ZodiacWeekly Horoscope (May 12–18): Predictions for Dog Chinese ZodiacUS, China suspend part of their tariffs for 90 days; tariffs to come down 115% on both sidesNintendo President fears Switch 2 price hike amid tariff wars, as \"people will have less money to spend on game consoles\"', 'score': 0.5428881}, {'title': \"It's not easy — but it feels right': Virat Kohli announces retirement ...\", 'url': 'https://www.hindustantimes.com/htcity/its-not-easy-but-it-feels-right-virat-kohli-announces-retirement-from-test-cricket-after-14-years-101747030942765.html', 'content': 'A post shared by Virat Kohli (@virat.kohli) Virat made his Test debut in 2011 and went on to play 123 Test matches for India. In that time, he scored 9,230 runs at an average of 48.67, including', 'score': 0.3955783}]\u001b[0m\n",
      "Thought:\u001b[32;1m\u001b[1;3mI found that Virat Kohli announced his retirement from Test cricket on May 12, 2025. Now, I need to calculate how many days ago that was from today.\n",
      "\n",
      "Action: get_current_datetime  \n",
      "Action Input: ''  \u001b[0m\n",
      "Observation: \u001b[33;1m\u001b[1;3m2025-05-23 07:18:59\u001b[0m\n",
      "Thought:\u001b[32;1m\u001b[1;3mI now know the final answer. Virat Kohli announced his retirement from Test cricket on May 12, 2025, and today is May 23, 2025. Therefore, it has been 11 days since his retirement announcement.\n",
      "\n",
      "Final Answer: 11 days ago.\u001b[0m\n",
      "\n",
      "\u001b[1m> Finished chain.\u001b[0m\n"
     ]
    },
    {
     "data": {
      "text/plain": [
       "{'input': 'when Virat kohli retired, how many days back',\n",
       " 'output': '11 days ago.'}"
      ]
     },
     "execution_count": 49,
     "metadata": {},
     "output_type": "execute_result"
    }
   ],
   "source": [
    "agent.invoke(\"when Virat kohli retired, how many days back\")"
   ]
  },
  {
   "cell_type": "code",
   "execution_count": null,
   "id": "c201a99a",
   "metadata": {},
   "outputs": [],
   "source": []
  }
 ],
 "metadata": {
  "kernelspec": {
   "display_name": "Python 3",
   "language": "python",
   "name": "python3"
  },
  "language_info": {
   "codemirror_mode": {
    "name": "ipython",
    "version": 3
   },
   "file_extension": ".py",
   "mimetype": "text/x-python",
   "name": "python",
   "nbconvert_exporter": "python",
   "pygments_lexer": "ipython3",
   "version": "3.12.0"
  }
 },
 "nbformat": 4,
 "nbformat_minor": 5
}
