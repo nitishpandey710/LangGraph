{
 "cells": [
  {
   "cell_type": "markdown",
   "id": "f43e7f98",
   "metadata": {},
   "source": [
    "                                                                          LangGraph_HelloWorld"
   ]
  },
  {
   "cell_type": "markdown",
   "id": "06d0f90a",
   "metadata": {},
   "source": [
    "Objective\n",
    "\n",
    "1:Learn what AgentState is and how to define it\n",
    "2:Write small functions (nodes) that change or update data\n",
    "3:Build a simple LangGraph flow\n",
    "4:Run the graph and see it in action\n",
    "5:See how data moves through a single node in LangGraph"
   ]
  },
  {
   "cell_type": "code",
   "execution_count": 1,
   "id": "8a541af3",
   "metadata": {},
   "outputs": [],
   "source": [
    "from typing import Dict,TypedDict  #Annotations\n",
    "from langgraph.graph import StateGraph #Frameowrk that assist in designing thye flow of the tasks in the application using graph."
   ]
  },
  {
   "cell_type": "code",
   "execution_count": null,
   "id": "d959d9af",
   "metadata": {},
   "outputs": [],
   "source": [
    "#we have to crate an AgentState -shared Data Structure that keeps track of information as your application runs.\n",
    "\n",
    "\n",
    "class AgentState(TypedDict): #This says the state will hold a dictionary with one key: \"message\" of type str.\n",
    "    message:str\n",
    "\n",
    "\n",
    "def greeting_node(state:AgentState) ->AgentState:\n",
    "    \"\"\"Node that adds Greeting message to the state\"\"\"\n",
    "    state['message']=\"Hello \" + state[\"message\"] + \" How are You\"  # This will be help to update the message part of the state\n",
    "    return state\n",
    "\n",
    "\n"
   ]
  },
  {
   "cell_type": "code",
   "execution_count": 17,
   "id": "04b4d182",
   "metadata": {},
   "outputs": [
    {
     "data": {
      "text/plain": [
       "<langgraph.graph.state.StateGraph at 0x1b4aad42ae0>"
      ]
     },
     "execution_count": 17,
     "metadata": {},
     "output_type": "execute_result"
    }
   ],
   "source": [
    "graph=StateGraph(AgentState)\n",
    "\n",
    "graph.add_node(\"Mr Greet\",greeting_node) #--> To add Node(add_node(requires two parameter 1:Name of the Node 2:What Action it performs)\n",
    "graph.set_entry_point(\"Mr Greet\")#  Requires 1 Paremter the name of the node you want to connect it.\n",
    "graph.set_finish_point(\"Mr Greet\")#  Requires 1 Paremter the name of the node you want to connect it."
   ]
  },
  {
   "cell_type": "code",
   "execution_count": 18,
   "id": "4fdfa09d",
   "metadata": {},
   "outputs": [],
   "source": [
    "app=graph.compile()"
   ]
  },
  {
   "cell_type": "code",
   "execution_count": 19,
   "id": "4fb15889",
   "metadata": {},
   "outputs": [
    {
     "data": {
      "image/png": "[encoded data removed]",
      "text/plain": [
       "<langgraph.graph.state.CompiledStateGraph object at 0x000001B4AADA5E20>"
      ]
     },
     "execution_count": 19,
     "metadata": {},
     "output_type": "execute_result"
    }
   ],
   "source": [
    "app"
   ]
  },
  {
   "cell_type": "code",
   "execution_count": 20,
   "id": "3999a496",
   "metadata": {},
   "outputs": [
    {
     "data": {
      "image/png": "[encoded data removed]",
      "text/plain": [
       "<IPython.core.display.Image object>"
      ]
     },
     "metadata": {},
     "output_type": "display_data"
    }
   ],
   "source": [
    "#Also\n",
    "from IPython.display import Image,display\n",
    "display(Image(app.get_graph().draw_mermaid_png()))"
   ]
  },
  {
   "cell_type": "code",
   "execution_count": 21,
   "id": "10e63e2d",
   "metadata": {},
   "outputs": [],
   "source": [
    "result=app.invoke({\"message\":\"Nitish\"})"
   ]
  },
  {
   "cell_type": "code",
   "execution_count": 22,
   "id": "fc59b409",
   "metadata": {},
   "outputs": [
    {
     "data": {
      "text/plain": [
       "{'message': 'Hello Nitish How are You'}"
      ]
     },
     "execution_count": 22,
     "metadata": {},
     "output_type": "execute_result"
    }
   ],
   "source": [
    "result"
   ]
  },
  {
   "cell_type": "markdown",
   "id": "be66b108",
   "metadata": {},
   "source": [
    "                                                   Create a Personalized Compliment Agent using LangGraph!\n",
    "\n"
   ]
  },
  {
   "cell_type": "code",
   "execution_count": null,
   "id": "773a78e1",
   "metadata": {},
   "outputs": [],
   "source": [
    "#Input:\n",
    "#{\"name\": \"Nitish\"}\n",
    "\n",
    "#Output:\n",
    "#\"Nitish you are doing an amazing job in learning LangGraph!\"\n",
    "\n",
    "#Hint: You have to concatenate the state, not replace it!"
   ]
  },
  {
   "cell_type": "code",
   "execution_count": 46,
   "id": "f80aa91f",
   "metadata": {},
   "outputs": [],
   "source": [
    "from typing import Dict,TypedDict  #Annotations\n",
    "from langgraph.graph import StateGraph #Frameowrk that assist in designing thye flow of the tasks in the application using graph.\n",
    "\n",
    "#we have to crate an AgentState -shared Data Structure that keeps track of information as your application runs.\n",
    "\n",
    "class AgentState(TypedDict):\n",
    "    message:str\n",
    "\n",
    "\n",
    "def greeting_node(state:AgentState) ->AgentState:\n",
    "    \"\"\"Node that adds Greeting message to the state\"\"\"\n",
    "    state['message']=state[\"message\"] + \" you're doing an amazing job in learning LangGraph by your own!\"\n",
    "    return state\n",
    "\n",
    "\n"
   ]
  },
  {
   "cell_type": "code",
   "execution_count": 47,
   "id": "964b2c54",
   "metadata": {},
   "outputs": [
    {
     "data": {
      "text/plain": [
       "<langgraph.graph.state.StateGraph at 0x1b4aada5eb0>"
      ]
     },
     "execution_count": 47,
     "metadata": {},
     "output_type": "execute_result"
    }
   ],
   "source": [
    "graph=StateGraph(AgentState)\n",
    "\n",
    "graph.add_node(\"Mr Greet\",greeting_node) #--> To add Node(add_node(requires two parameter 1:Name of the Node 2:What Action it performs)\n",
    "graph.set_entry_point(\"Mr Greet\")#  Requires 1 Paremter the name of the node you want to connect it.\n",
    "graph.set_finish_point(\"Mr Greet\")#  Requires 1 Paremter the name of the node you want to connect it."
   ]
  },
  {
   "cell_type": "code",
   "execution_count": 48,
   "id": "c7c0ab0d",
   "metadata": {},
   "outputs": [],
   "source": [
    "app=graph.compile()"
   ]
  },
  {
   "cell_type": "code",
   "execution_count": 49,
   "id": "d2215bd4",
   "metadata": {},
   "outputs": [
    {
     "data": {
      "image/png": "[encoded data removed]",
      "text/plain": [
       "<langgraph.graph.state.CompiledStateGraph object at 0x000001B4AAD6A600>"
      ]
     },
     "execution_count": 49,
     "metadata": {},
     "output_type": "execute_result"
    }
   ],
   "source": [
    "app"
   ]
  },
  {
   "cell_type": "code",
   "execution_count": 50,
   "id": "23aca237",
   "metadata": {},
   "outputs": [],
   "source": [
    "result=app.invoke({\"message\":\"Nitish\"})"
   ]
  },
  {
   "cell_type": "code",
   "execution_count": 51,
   "id": "f42067fd",
   "metadata": {},
   "outputs": [
    {
     "data": {
      "text/plain": [
       "{'message': \"Nitish you're doing an amazing job in learning LangGraph by your own!\"}"
      ]
     },
     "execution_count": 51,
     "metadata": {},
     "output_type": "execute_result"
    }
   ],
   "source": [
    "result"
   ]
  }
 ],
 "metadata": {
  "kernelspec": {
   "display_name": "Python 3",
   "language": "python",
   "name": "python3"
  },
  "language_info": {
   "codemirror_mode": {
    "name": "ipython",
    "version": 3
   },
   "file_extension": ".py",
   "mimetype": "text/x-python",
   "name": "python",
   "nbconvert_exporter": "python",
   "pygments_lexer": "ipython3",
   "version": "3.12.0"
  }
 },
 "nbformat": 4,
 "nbformat_minor": 5
}
